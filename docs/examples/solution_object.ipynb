{
 "cells": [
  {
   "cell_type": "markdown",
   "id": "a85fd076",
   "metadata": {},
   "source": [
    "# Exploring the solution object\n",
    "\n",
    "ODE filters are probabilistic numerical algorithms, which means they compute probability distributions over possible solutions instead of simple point estimates.\n",
    "A probabilistic description is much richer than a non-probabilistic description, so the solution objects returned by the ODE filter are a lot of fun."
   ]
  },
  {
   "cell_type": "code",
   "execution_count": 1,
   "id": "70e2bbaa",
   "metadata": {
    "execution": {
     "iopub.execute_input": "2022-10-21T10:09:46.358539Z",
     "iopub.status.busy": "2022-10-21T10:09:46.357815Z",
     "iopub.status.idle": "2022-10-21T10:09:47.301926Z",
     "shell.execute_reply": "2022-10-21T10:09:47.301004Z"
    },
    "tags": []
   },
   "outputs": [],
   "source": [
    "import jax\n",
    "import jax.numpy as jnp\n",
    "import matplotlib.pyplot as plt\n",
    "from diffeqzoo import backend, ivps\n",
    "from jax.config import config\n",
    "\n",
    "from odefilter import ivpsolve, solvers\n",
    "from odefilter.strategies import smoothers\n",
    "\n",
    "if not backend.has_been_selected:\n",
    "    backend.select(\"jax\")  # ivp examples in jax\n",
    "\n",
    "\n",
    "config.update(\"jax_enable_x64\", True)"
   ]
  },
  {
   "cell_type": "code",
   "execution_count": 2,
   "id": "394640a6",
   "metadata": {
    "execution": {
     "iopub.execute_input": "2022-10-21T10:09:47.308338Z",
     "iopub.status.busy": "2022-10-21T10:09:47.307730Z",
     "iopub.status.idle": "2022-10-21T10:09:47.774087Z",
     "shell.execute_reply": "2022-10-21T10:09:47.773219Z"
    },
    "tags": []
   },
   "outputs": [
    {
     "name": "stderr",
     "output_type": "stream",
     "text": [
      "WARNING:absl:No GPU/TPU found, falling back to CPU. (Set TF_CPP_MIN_LOG_LEVEL=0 and rerun for more info.)\n"
     ]
    }
   ],
   "source": [
    "# Make a problem\n",
    "f, u0, (t0, t1), f_args = ivps.sir()\n",
    "\n",
    "\n",
    "@jax.jit\n",
    "def vector_field(y, *, t, p):\n",
    "    return f(y, *p)\n",
    "\n",
    "\n",
    "# Make a solver\n",
    "solver = solvers.DynamicSolver(strategy=smoothers.Smoother())"
   ]
  },
  {
   "cell_type": "code",
   "execution_count": null,
   "id": "9ae51906",
   "metadata": {
    "execution": {
     "iopub.execute_input": "2022-10-21T10:09:47.779152Z",
     "iopub.status.busy": "2022-10-21T10:09:47.778949Z",
     "iopub.status.idle": "2022-10-21T10:09:49.737951Z",
     "shell.execute_reply": "2022-10-21T10:09:49.736644Z"
    },
    "tags": []
   },
   "outputs": [],
   "source": [
    "%%time\n",
    "solution = ivpsolve.solve(\n",
    "    vector_field,\n",
    "    initial_values=(u0,),\n",
    "    t0=t0,\n",
    "    t1=t1,\n",
    "    solver=solver,\n",
    "    parameters=f_args,\n",
    "    atol=1e-1,\n",
    "    rtol=1e-1,\n",
    ")"
   ]
  },
  {
   "cell_type": "markdown",
   "id": "591a87f0",
   "metadata": {},
   "source": [
    "We can access elements of the solution."
   ]
  },
  {
   "cell_type": "code",
   "execution_count": null,
   "id": "84332c7c",
   "metadata": {
    "execution": {
     "iopub.execute_input": "2022-10-21T10:09:49.743049Z",
     "iopub.status.busy": "2022-10-21T10:09:49.742760Z",
     "iopub.status.idle": "2022-10-21T10:09:49.797605Z",
     "shell.execute_reply": "2022-10-21T10:09:49.796844Z"
    },
    "tags": []
   },
   "outputs": [],
   "source": [
    "print(len(solution))\n",
    "print(solution[-1])"
   ]
  },
  {
   "cell_type": "markdown",
   "id": "846bc725",
   "metadata": {},
   "source": [
    "We can plot an estimate of the solution."
   ]
  },
  {
   "cell_type": "code",
   "execution_count": null,
   "id": "992881e1",
   "metadata": {
    "execution": {
     "iopub.execute_input": "2022-10-21T10:09:49.801534Z",
     "iopub.status.busy": "2022-10-21T10:09:49.801249Z",
     "iopub.status.idle": "2022-10-21T10:09:50.188824Z",
     "shell.execute_reply": "2022-10-21T10:09:50.188286Z"
    },
    "tags": []
   },
   "outputs": [],
   "source": [
    "plt.plot(solution.t, solution.u, \".-\")\n",
    "plt.show()"
   ]
  },
  {
   "cell_type": "markdown",
   "id": "3bb2eaac",
   "metadata": {},
   "source": [
    "But we can also look at the underlying distribution.\n",
    "For starters, maybe we want to compute the marginal distribution over the solution away from\n",
    "the grid points. This is similar to dense output, but waaaay cooler: there is not _one_ way of dense output with\n",
    "probabilistic solvers, but there are\n",
    "\n",
    "* marginals on off-grid points (most similar to traditional dense output)\n",
    "* joint distributions on grid points and away from the grid points\n",
    "* joint samples from the posterior\n",
    "\n",
    "and many more options.\n",
    "Look at this:"
   ]
  },
  {
   "cell_type": "code",
   "execution_count": null,
   "id": "6535f3a1",
   "metadata": {
    "execution": {
     "iopub.execute_input": "2022-10-21T10:09:50.195021Z",
     "iopub.status.busy": "2022-10-21T10:09:50.194819Z",
     "iopub.status.idle": "2022-10-21T10:09:51.747876Z",
     "shell.execute_reply": "2022-10-21T10:09:51.746925Z"
    },
    "tags": []
   },
   "outputs": [],
   "source": [
    "ts = jnp.linspace(t0 + 1e-4, t1 - 1e-3, num=400, endpoint=True)\n",
    "_, dense = solver.offgrid_marginals_searchsorted(ts=ts, solution=solution)\n",
    "\n",
    "fig, ax = plt.subplots(nrows=2, sharex=True, tight_layout=True)\n",
    "\n",
    "for i in [0, 1, 2]:  # [\"S\", \"I\", \"R\"]\n",
    "    ms = dense.mean[:, 0, i]\n",
    "    ls = dense.cov_sqrtm_lower[:, 0]\n",
    "\n",
    "    # Exaggerate the uncertainty (for plotting reasons)\n",
    "    stds = 10 * jnp.sqrt(jnp.einsum(\"jn,jn->j\", ls, ls))\n",
    "\n",
    "    ax[0].plot(ts, ms)\n",
    "    ax[0].fill_between(ts, ms - 1.96 * stds, ms + 1.96 * stds, alpha=0.3)\n",
    "    ax[0].set_ylabel(\"Posterior credible intervals\")\n",
    "\n",
    "    ax[1].semilogy(ts, stds)\n",
    "    ax[1].set_ylabel(\"Standard deviation\")\n",
    "\n",
    "ax[1].set_xlabel(\"Time\")\n",
    "plt.show()"
   ]
  },
  {
   "cell_type": "markdown",
   "id": "50feb810",
   "metadata": {},
   "source": [
    "Stay tuned for more."
   ]
  }
 ],
 "metadata": {
  "jupytext": {
   "formats": "ipynb,md"
  },
  "kernelspec": {
   "display_name": "Python 3 (ipykernel)",
   "language": "python",
   "name": "python3"
  },
  "language_info": {
   "codemirror_mode": {
    "name": "ipython",
    "version": 3
   },
   "file_extension": ".py",
   "mimetype": "text/x-python",
   "name": "python",
   "nbconvert_exporter": "python",
   "pygments_lexer": "ipython3",
   "version": "3.8.10"
  }
 },
 "nbformat": 4,
 "nbformat_minor": 5
}
