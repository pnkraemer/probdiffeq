{
 "cells": [
  {
   "cell_type": "markdown",
   "id": "a85fd076",
   "metadata": {},
   "source": [
    "# Exploring the solution object\n",
    "\n",
    "Probabilistic IVP solvers are probabilistic numerical algorithms, which means they compute probability distributions over possible solutions instead of simple point estimates.\n",
    "A probabilistic description is much richer than a non-probabilistic description, so the solution objects returned by the probabilistic IVP solver are worth investigating:"
   ]
  },
  {
   "cell_type": "code",
   "execution_count": 1,
   "id": "70e2bbaa",
   "metadata": {
    "execution": {
     "iopub.execute_input": "2023-02-17T08:56:05.681361Z",
     "iopub.status.busy": "2023-02-17T08:56:05.680660Z",
     "iopub.status.idle": "2023-02-17T08:56:06.559572Z",
     "shell.execute_reply": "2023-02-17T08:56:06.558254Z"
    },
    "tags": []
   },
   "outputs": [],
   "source": [
    "import jax\n",
    "import jax.numpy as jnp\n",
    "import matplotlib.pyplot as plt\n",
    "from diffeqzoo import backend, ivps\n",
    "from jax.config import config\n",
    "\n",
    "from probdiffeq import solution, solution_routines, solvers\n",
    "from probdiffeq.doc_util import notebook\n",
    "from probdiffeq.implementations import recipes\n",
    "from probdiffeq.strategies import smoothers"
   ]
  },
  {
   "cell_type": "code",
   "execution_count": 2,
   "id": "6f3dcbfa",
   "metadata": {},
   "outputs": [],
   "source": [
    "plt.rcParams.update(notebook.plot_config())\n",
    "\n",
    "if not backend.has_been_selected:\n",
    "    backend.select(\"jax\")  # ivp examples in jax\n",
    "\n",
    "config.update(\"jax_enable_x64\", True)\n",
    "config.update(\"jax_platform_name\", \"cpu\")"
   ]
  },
  {
   "cell_type": "code",
   "execution_count": 3,
   "id": "394640a6",
   "metadata": {
    "execution": {
     "iopub.execute_input": "2023-02-17T08:56:06.568021Z",
     "iopub.status.busy": "2023-02-17T08:56:06.567015Z",
     "iopub.status.idle": "2023-02-17T08:56:07.006857Z",
     "shell.execute_reply": "2023-02-17T08:56:07.006038Z"
    },
    "tags": []
   },
   "outputs": [],
   "source": [
    "# Make a problem\n",
    "f, u0, (t0, t1), f_args = ivps.sir()\n",
    "\n",
    "\n",
    "@jax.jit\n",
    "def vector_field(y, *, t, p):\n",
    "    return f(y, *p)\n",
    "\n",
    "\n",
    "# Make a solver\n",
    "solver = solvers.DynamicSolver(\n",
    "    strategy=smoothers.Smoother(recipes.IsoTS0.from_params())\n",
    ")"
   ]
  },
  {
   "cell_type": "code",
   "execution_count": 4,
   "id": "9ae51906",
   "metadata": {
    "execution": {
     "iopub.execute_input": "2023-02-17T08:56:07.010243Z",
     "iopub.status.busy": "2023-02-17T08:56:07.009879Z",
     "iopub.status.idle": "2023-02-17T08:56:11.128744Z",
     "shell.execute_reply": "2023-02-17T08:56:11.128122Z"
    },
    "tags": []
   },
   "outputs": [
    {
     "name": "stdout",
     "output_type": "stream",
     "text": [
      "CPU times: user 3.15 s, sys: 30.5 ms, total: 3.18 s\n",
      "Wall time: 3.16 s\n"
     ]
    }
   ],
   "source": [
    "%%time\n",
    "sol = solution_routines.solve_with_python_while_loop(\n",
    "    vector_field,\n",
    "    initial_values=(u0,),\n",
    "    t0=t0,\n",
    "    t1=t1,\n",
    "    solver=solver,\n",
    "    parameters=f_args,\n",
    "    atol=1e-1,\n",
    "    rtol=1e-1,\n",
    ")"
   ]
  },
  {
   "cell_type": "markdown",
   "id": "591a87f0",
   "metadata": {},
   "source": [
    "We can access elements of the solution."
   ]
  },
  {
   "cell_type": "code",
   "execution_count": 5,
   "id": "84332c7c",
   "metadata": {
    "execution": {
     "iopub.execute_input": "2023-02-17T08:56:11.130901Z",
     "iopub.status.busy": "2023-02-17T08:56:11.130712Z",
     "iopub.status.idle": "2023-02-17T08:56:11.165517Z",
     "shell.execute_reply": "2023-02-17T08:56:11.164853Z"
    },
    "tags": []
   },
   "outputs": [
    {
     "name": "stdout",
     "output_type": "stream",
     "text": [
      "203\n",
      "Solution(t=200.0,u=[5.92689398e+01 7.87368840e-03 9.40723187e+02],error_estimate=0.0,output_scale_sqrtm=2.4082677082215334,marginals=IsoStateSpaceVar(hidden_state=IsoNormal(mean=[[ 5.92689398e+01  7.87368840e-03  9.40723187e+02]\n",
      " [ 8.63555391e-03  3.98355927e-02 -4.84711466e-02]\n",
      " [ 2.49647647e-02  1.15160920e-01 -1.40125685e-01]\n",
      " [ 3.98289149e-02  1.83728299e-01 -2.23557213e-01]\n",
      " [ 2.87645017e-02  1.32688833e-01 -1.61453335e-01]], cov_sqrtm_lower=[[-1.62950803  0.          0.          0.          0.        ]\n",
      " [-0.00803747 -0.29289112  0.          0.          0.        ]\n",
      " [-0.02790231 -1.01604627 -0.10389015  0.          0.        ]\n",
      " [-0.05681608 -2.06792232 -0.66649916 -0.12526492  0.        ]\n",
      " [-0.05577131 -2.03570722 -1.55837979 -1.07070562 -0.55666636]])),posterior=MarkovSequence(init=IsoStateSpaceVar(hidden_state=IsoNormal(mean=[[ 5.92689398e+01  7.87368840e-03  9.40723187e+02]\n",
      " [ 8.63555391e-03  3.98355927e-02 -4.84711466e-02]\n",
      " [ 2.49647647e-02  1.15160920e-01 -1.40125685e-01]\n",
      " [ 3.98289149e-02  1.83728299e-01 -2.23557213e-01]\n",
      " [ 2.87645017e-02  1.32688833e-01 -1.61453335e-01]], cov_sqrtm_lower=[[-1.62950803  0.          0.          0.          0.        ]\n",
      " [-0.00803747 -0.29289112  0.          0.          0.        ]\n",
      " [-0.02790231 -1.01604627 -0.10389015  0.          0.        ]\n",
      " [-0.05681608 -2.06792232 -0.66649916 -0.12526492  0.        ]\n",
      " [-0.05577131 -2.03570722 -1.55837979 -1.07070562 -0.55666636]])), backward_model=IsoConditional(transition=[[ 1.00000003e+00 -3.68217118e-01  5.99537369e-02 -5.17402442e-03\n",
      "   1.99982892e-04]\n",
      " [-2.87035620e-18  1.05691426e-18 -1.72088576e-19  1.48512927e-20\n",
      "  -5.74022128e-22]\n",
      " [-2.23568938e-06  4.54154711e+00 -1.41601389e+00  1.72601939e-01\n",
      "  -8.17792858e-03]\n",
      " [ 1.96706179e-05 -2.75077573e+00  2.90375534e+00 -5.64290025e-01\n",
      "   3.39753479e-02]\n",
      " [ 1.56011788e-05 -8.76043017e+01  3.68599547e+01 -4.98403785e+00\n",
      "   2.43711250e-01]], noise=IsoNormal(mean=[[-7.26275022e-05 -3.26840287e-04  3.69370899e-04]\n",
      " [ 4.96585344e-04  2.29102981e-03 -2.78761515e-03]\n",
      " [-1.83544011e-03 -9.07941741e-03  1.31505469e-02]\n",
      " [-3.07882464e-03 -8.82371618e-03 -7.76807705e-03]\n",
      " [ 5.56499962e-02  2.61002733e-01 -3.32253908e-01]], cov_sqrtm_lower=[[-1.18954300e-04  0.00000000e+00  0.00000000e+00  0.00000000e+00\n",
      "   0.00000000e+00]\n",
      " [ 3.41441280e-22 -1.95324933e-16  0.00000000e+00  0.00000000e+00\n",
      "   0.00000000e+00]\n",
      " [ 6.77799382e-03  3.54886204e-15 -2.72439600e-03  0.00000000e+00\n",
      "   0.00000000e+00]\n",
      " [-4.08121386e-02 -1.63848088e-14  4.31635169e-02 -1.79542992e-02\n",
      "   0.00000000e+00]\n",
      " [-1.92932622e-01 -9.52195567e-14 -4.44283499e-02  3.22673870e-01\n",
      "   3.06290535e-01]]))),num_data_points=203.0,)\n"
     ]
    }
   ],
   "source": [
    "print(len(sol))\n",
    "print(sol[-1])"
   ]
  },
  {
   "cell_type": "markdown",
   "id": "846bc725",
   "metadata": {},
   "source": [
    "We can plot an estimate of the solution."
   ]
  },
  {
   "cell_type": "code",
   "execution_count": 6,
   "id": "992881e1",
   "metadata": {
    "execution": {
     "iopub.execute_input": "2023-02-17T08:56:11.168286Z",
     "iopub.status.busy": "2023-02-17T08:56:11.167541Z",
     "iopub.status.idle": "2023-02-17T08:56:12.396002Z",
     "shell.execute_reply": "2023-02-17T08:56:12.395235Z"
    },
    "tags": []
   },
   "outputs": [
    {
     "data": {
      "image/png": "[encoded data removed]",
      "text/plain": [
       "<Figure size 595.276x223.228 with 1 Axes>"
      ]
     },
     "metadata": {},
     "output_type": "display_data"
    }
   ],
   "source": [
    "plt.plot(sol.t, sol.u, \".-\")\n",
    "plt.show()"
   ]
  },
  {
   "cell_type": "markdown",
   "id": "3bb2eaac",
   "metadata": {},
   "source": [
    "But we can also look at the underlying distribution.\n",
    "For starters, maybe we want to compute the marginal distribution over the solution away from\n",
    "the grid points. This is similar to dense output, but, arguably, way cooler: there is not _one_ way of dense output with probabilistic solvers, but there many ways:\n",
    "\n",
    "* marginals on off-grid points (most similar to traditional dense output)\n",
    "* joint distributions on grid points and away from the grid points\n",
    "* joint samples from the posterior\n",
    "\n",
    "and many more options.\n",
    "\n",
    "Check this out:"
   ]
  },
  {
   "cell_type": "code",
   "execution_count": 7,
   "id": "6535f3a1",
   "metadata": {
    "execution": {
     "iopub.execute_input": "2023-02-17T08:56:12.400954Z",
     "iopub.status.busy": "2023-02-17T08:56:12.400761Z",
     "iopub.status.idle": "2023-02-17T08:56:14.310747Z",
     "shell.execute_reply": "2023-02-17T08:56:14.310029Z"
    },
    "tags": []
   },
   "outputs": [
    {
     "data": {
      "image/png": "[encoded data removed]",
      "text/plain": [
       "<Figure size 595.276x223.228 with 2 Axes>"
      ]
     },
     "metadata": {},
     "output_type": "display_data"
    }
   ],
   "source": [
    "ts = jnp.linspace(t0 + 1e-4, t1 - 1e-3, num=400, endpoint=True)\n",
    "_, dense = solution.offgrid_marginals_searchsorted(ts=ts, solution=sol, solver=solver)\n",
    "\n",
    "fig, ax = plt.subplots(nrows=2, sharex=True, tight_layout=True)\n",
    "\n",
    "for i in [0, 1, 2]:  # [\"S\", \"I\", \"R\"]\n",
    "    ms = dense.hidden_state.mean[:, 0, i]\n",
    "    ls = dense.hidden_state.cov_sqrtm_lower[:, 0]\n",
    "\n",
    "    # Exaggerate the uncertainty (for plotting reasons)\n",
    "    stds = 10 * jnp.sqrt(jnp.einsum(\"jn,jn->j\", ls, ls))\n",
    "\n",
    "    ax[0].plot(ts, ms, marker=\"None\")\n",
    "    ax[0].fill_between(ts, ms - 1.96 * stds, ms + 1.96 * stds, alpha=0.3)\n",
    "    ax[0].set_ylabel(\"Posterior credible intervals\")\n",
    "\n",
    "    ax[1].semilogy(ts, stds, marker=\"None\")\n",
    "    ax[1].set_ylabel(\"Standard deviation\")\n",
    "\n",
    "ax[1].set_xlabel(\"Time\")\n",
    "plt.show()"
   ]
  },
  {
   "cell_type": "markdown",
   "id": "50feb810",
   "metadata": {},
   "source": [
    "Stay tuned for more."
   ]
  }
 ],
 "metadata": {
  "jupytext": {
   "formats": "ipynb,md"
  },
  "kernelspec": {
   "display_name": "Python 3 (ipykernel)",
   "language": "python",
   "name": "python3"
  },
  "language_info": {
   "codemirror_mode": {
    "name": "ipython",
    "version": 3
   },
   "file_extension": ".py",
   "mimetype": "text/x-python",
   "name": "python",
   "nbconvert_exporter": "python",
   "pygments_lexer": "ipython3",
   "version": "3.10.6"
  }
 },
 "nbformat": 4,
 "nbformat_minor": 5
}
