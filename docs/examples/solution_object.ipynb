{
 "cells": [
  {
   "cell_type": "markdown",
   "id": "a85fd076",
   "metadata": {},
   "source": [
    "# Exploring the solution object\n",
    "\n",
    "Probabilistic IVP solvers are probabilistic numerical algorithms, which means they compute probability distributions over possible solutions instead of simple point estimates.\n",
    "A probabilistic description is much richer than a non-probabilistic description, so the solution objects returned by the probabilistic IVP solver are worth investigating:"
   ]
  },
  {
   "cell_type": "code",
   "execution_count": 1,
   "id": "70e2bbaa",
   "metadata": {
    "execution": {
     "iopub.execute_input": "2023-04-03T11:22:02.915153Z",
     "iopub.status.busy": "2023-04-03T11:22:02.914412Z",
     "iopub.status.idle": "2023-04-03T11:22:03.914299Z",
     "shell.execute_reply": "2023-04-03T11:22:03.912931Z"
    }
   },
   "outputs": [],
   "source": [
    "import jax\n",
    "import jax.numpy as jnp\n",
    "import matplotlib.pyplot as plt\n",
    "from diffeqzoo import backend, ivps\n",
    "from jax.config import config\n",
    "\n",
    "from probdiffeq import ivpsolve, ivpsolvers, solution\n",
    "from probdiffeq.doc_util import notebook\n",
    "from probdiffeq.implementations import recipes\n",
    "from probdiffeq.strategies import smoothers"
   ]
  },
  {
   "cell_type": "code",
   "execution_count": 2,
   "id": "6f3dcbfa",
   "metadata": {
    "execution": {
     "iopub.execute_input": "2023-04-03T11:22:03.921801Z",
     "iopub.status.busy": "2023-04-03T11:22:03.919776Z",
     "iopub.status.idle": "2023-04-03T11:22:03.931648Z",
     "shell.execute_reply": "2023-04-03T11:22:03.930433Z"
    }
   },
   "outputs": [],
   "source": [
    "plt.rcParams.update(notebook.plot_config())\n",
    "\n",
    "if not backend.has_been_selected:\n",
    "    backend.select(\"jax\")  # ivp examples in jax\n",
    "\n",
    "config.update(\"jax_platform_name\", \"cpu\")"
   ]
  },
  {
   "cell_type": "code",
   "execution_count": 3,
   "id": "394640a6",
   "metadata": {
    "execution": {
     "iopub.execute_input": "2023-04-03T11:22:03.938962Z",
     "iopub.status.busy": "2023-04-03T11:22:03.937102Z",
     "iopub.status.idle": "2023-04-03T11:22:04.386341Z",
     "shell.execute_reply": "2023-04-03T11:22:04.385688Z"
    }
   },
   "outputs": [],
   "source": [
    "# Make a problem\n",
    "f, u0, (t0, t1), f_args = ivps.sir()\n",
    "\n",
    "\n",
    "@jax.jit\n",
    "def vector_field(y, *, t, p):\n",
    "    return f(y, *p)\n",
    "\n",
    "\n",
    "# Make a solver\n",
    "solver = ivpsolvers.DynamicSolver(\n",
    "    strategy=smoothers.Smoother(recipes.IsoTS0.from_params())\n",
    ")"
   ]
  },
  {
   "cell_type": "code",
   "execution_count": 4,
   "id": "9ae51906",
   "metadata": {
    "execution": {
     "iopub.execute_input": "2023-04-03T11:22:04.388990Z",
     "iopub.status.busy": "2023-04-03T11:22:04.388746Z",
     "iopub.status.idle": "2023-04-03T11:22:07.922505Z",
     "shell.execute_reply": "2023-04-03T11:22:07.921884Z"
    }
   },
   "outputs": [
    {
     "name": "stdout",
     "output_type": "stream",
     "text": [
      "CPU times: user 3.39 s, sys: 26.1 ms, total: 3.42 s\n",
      "Wall time: 3.39 s\n"
     ]
    }
   ],
   "source": [
    "%%time\n",
    "sol = ivpsolve.solve_with_python_while_loop(\n",
    "    vector_field,\n",
    "    initial_values=(u0,),\n",
    "    t0=t0,\n",
    "    t1=t1,\n",
    "    solver=solver,\n",
    "    parameters=f_args,\n",
    "    atol=1e-1,\n",
    "    rtol=1e-1,\n",
    ")"
   ]
  },
  {
   "cell_type": "markdown",
   "id": "591a87f0",
   "metadata": {},
   "source": [
    "We can access elements of the solution."
   ]
  },
  {
   "cell_type": "code",
   "execution_count": 5,
   "id": "84332c7c",
   "metadata": {
    "execution": {
     "iopub.execute_input": "2023-04-03T11:22:07.924522Z",
     "iopub.status.busy": "2023-04-03T11:22:07.924346Z",
     "iopub.status.idle": "2023-04-03T11:22:07.972735Z",
     "shell.execute_reply": "2023-04-03T11:22:07.972164Z"
    }
   },
   "outputs": [
    {
     "name": "stdout",
     "output_type": "stream",
     "text": [
      "203\n",
      "Solution(t=200.0,u=[5.9264923e+01 7.8655034e-03 9.4062909e+02],error_estimate=0.0,output_scale_sqrtm=2.4084348678588867,marginals=IsoStateSpaceVar(hidden_state=IsoNormalHiddenState(mean=[[ 5.9264923e+01  7.8655034e-03  9.4062909e+02]\n",
      " [ 8.6299041e-03  3.9812744e-02 -4.8442669e-02]\n",
      " [ 2.4955511e-02  1.1512755e-01 -1.4008306e-01]\n",
      " [ 3.9821927e-02  1.8371092e-01 -2.2353284e-01]\n",
      " [ 2.8764172e-02  1.3269801e-01 -1.6146214e-01]], cov_sqrtm_lower=[[-1.6293911   0.          0.          0.          0.        ]\n",
      " [-0.00802144 -0.2926848   0.          0.          0.        ]\n",
      " [-0.02785546 -1.0156409  -0.10382982  0.          0.        ]\n",
      " [-0.05673403 -2.0675452  -0.66632706 -0.12521501  0.        ]\n",
      " [-0.05570261 -2.035715   -1.5583565  -1.0706459  -0.5566079 ]])),posterior=MarkovSequence(init=IsoStateSpaceVar(hidden_state=IsoNormalHiddenState(mean=[[ 5.9264923e+01  7.8655034e-03  9.4062909e+02]\n",
      " [ 8.6299041e-03  3.9812744e-02 -4.8442669e-02]\n",
      " [ 2.4955511e-02  1.1512755e-01 -1.4008306e-01]\n",
      " [ 3.9821927e-02  1.8371092e-01 -2.2353284e-01]\n",
      " [ 2.8764172e-02  1.3269801e-01 -1.6146214e-01]], cov_sqrtm_lower=[[-1.6293911   0.          0.          0.          0.        ]\n",
      " [-0.00802144 -0.2926848   0.          0.          0.        ]\n",
      " [-0.02785546 -1.0156409  -0.10382982  0.          0.        ]\n",
      " [-0.05673403 -2.0675452  -0.66632706 -0.12521501  0.        ]\n",
      " [-0.05570261 -2.035715   -1.5583565  -1.0706459  -0.5566079 ]])), backward_model=IsoConditionalHiddenState(transition=[[ 1.0000008e+00 -3.6805016e-01  5.9896890e-02 -5.1659578e-03\n",
      "   1.9954181e-04]\n",
      " [-2.2704045e-11  2.0446839e-10 -8.8469919e-11  1.6485058e-11\n",
      "  -1.3394046e-12]\n",
      " [-2.2405820e-06  4.5443187e+00 -1.4163393e+00  1.7257737e-01\n",
      "  -8.1735672e-03]\n",
      " [ 1.9720526e-05 -2.7621033e+00  2.9085062e+00 -5.6481838e-01\n",
      "   3.3989806e-02]\n",
      " [ 1.5243821e-05 -8.7688377e+01  3.6880493e+01 -4.9845338e+00\n",
      "   2.4362038e-01]], noise=IsoNormalHiddenState(mean=[[-9.4689363e-05 -3.2671046e-04  1.3554777e-04]\n",
      " [ 4.9656094e-04  2.2910889e-03 -2.7876440e-03]\n",
      " [-1.8366713e-03 -9.0870671e-03  1.3164191e-02]\n",
      " [-3.0751082e-03 -8.7940497e-03 -7.8494987e-03]\n",
      " [ 5.5717714e-02  2.6123735e-01 -3.3219939e-01]], cov_sqrtm_lower=[[ 1.18608776e-04  0.00000000e+00  0.00000000e+00  0.00000000e+00\n",
      "   0.00000000e+00]\n",
      " [-4.51267192e-12 -6.87090633e-08  0.00000000e+00  0.00000000e+00\n",
      "   0.00000000e+00]\n",
      " [-6.77016890e-03  7.51054472e-07  2.72979168e-03  0.00000000e+00\n",
      "   0.00000000e+00]\n",
      " [ 4.07851934e-02 -2.79737196e-06 -4.31502275e-02  1.80191249e-02\n",
      "   0.00000000e+00]\n",
      " [ 1.91961959e-01 -1.88996801e-05  4.22187001e-02 -3.24910223e-01\n",
      "  -3.04776996e-01]]))),num_data_points=203.0,)\n"
     ]
    }
   ],
   "source": [
    "print(len(sol))\n",
    "print(sol[-1])"
   ]
  },
  {
   "cell_type": "markdown",
   "id": "846bc725",
   "metadata": {},
   "source": [
    "We can plot an estimate of the solution."
   ]
  },
  {
   "cell_type": "code",
   "execution_count": 6,
   "id": "992881e1",
   "metadata": {
    "execution": {
     "iopub.execute_input": "2023-04-03T11:22:07.974665Z",
     "iopub.status.busy": "2023-04-03T11:22:07.974377Z",
     "iopub.status.idle": "2023-04-03T11:22:09.081941Z",
     "shell.execute_reply": "2023-04-03T11:22:09.081014Z"
    }
   },
   "outputs": [
    {
     "data": {
      "image/png": "[encoded data removed]",
      "text/plain": [
       "<Figure size 595.276x223.228 with 1 Axes>"
      ]
     },
     "metadata": {},
     "output_type": "display_data"
    }
   ],
   "source": [
    "plt.plot(sol.t, sol.u, \".-\")\n",
    "plt.show()"
   ]
  },
  {
   "cell_type": "markdown",
   "id": "3bb2eaac",
   "metadata": {},
   "source": [
    "But we can also look at the underlying distribution.\n",
    "For starters, maybe we want to compute the marginal distribution over the solution away from\n",
    "the grid points. This is similar to dense output, but, arguably, way cooler: there is not _one_ way of dense output with probabilistic solvers, but there many ways:\n",
    "\n",
    "* marginals on off-grid points (most similar to traditional dense output)\n",
    "* joint distributions on grid points and away from the grid points\n",
    "* joint samples from the posterior\n",
    "\n",
    "and many more options.\n",
    "\n",
    "Check this out:"
   ]
  },
  {
   "cell_type": "code",
   "execution_count": 7,
   "id": "6535f3a1",
   "metadata": {
    "execution": {
     "iopub.execute_input": "2023-04-03T11:22:09.084084Z",
     "iopub.status.busy": "2023-04-03T11:22:09.083842Z",
     "iopub.status.idle": "2023-04-03T11:22:10.650613Z",
     "shell.execute_reply": "2023-04-03T11:22:10.649981Z"
    }
   },
   "outputs": [
    {
     "data": {
      "image/png": "[encoded data removed]",
      "text/plain": [
       "<Figure size 595.276x223.228 with 2 Axes>"
      ]
     },
     "metadata": {},
     "output_type": "display_data"
    }
   ],
   "source": [
    "ts = jnp.linspace(t0 + 1e-4, t1 - 1e-3, num=400, endpoint=True)\n",
    "_, dense = solution.offgrid_marginals_searchsorted(ts=ts, solution=sol, solver=solver)\n",
    "\n",
    "fig, ax = plt.subplots(nrows=2, sharex=True, tight_layout=True)\n",
    "\n",
    "for i in [0, 1, 2]:  # [\"S\", \"I\", \"R\"]\n",
    "    ms = dense.hidden_state.mean[:, 0, i]\n",
    "    ls = dense.hidden_state.cov_sqrtm_lower[:, 0]\n",
    "\n",
    "    # Exaggerate the uncertainty (for plotting reasons)\n",
    "    stds = 10 * jnp.sqrt(jnp.einsum(\"jn,jn->j\", ls, ls))\n",
    "\n",
    "    ax[0].plot(ts, ms, marker=\"None\")\n",
    "    ax[0].fill_between(ts, ms - 1.96 * stds, ms + 1.96 * stds, alpha=0.3)\n",
    "    ax[0].set_ylabel(\"Posterior credible intervals\")\n",
    "\n",
    "    ax[1].semilogy(ts, stds, marker=\"None\")\n",
    "    ax[1].set_ylabel(\"Standard deviation\")\n",
    "\n",
    "ax[1].set_xlabel(\"Time\")\n",
    "plt.show()"
   ]
  },
  {
   "cell_type": "markdown",
   "id": "50feb810",
   "metadata": {},
   "source": [
    "Stay tuned for more."
   ]
  }
 ],
 "metadata": {
  "jupytext": {
   "formats": "ipynb,md"
  },
  "kernelspec": {
   "display_name": "Python 3 (ipykernel)",
   "language": "python",
   "name": "python3"
  },
  "language_info": {
   "codemirror_mode": {
    "name": "ipython",
    "version": 3
   },
   "file_extension": ".py",
   "mimetype": "text/x-python",
   "name": "python",
   "nbconvert_exporter": "python",
   "pygments_lexer": "ipython3",
   "version": "3.10.6"
  }
 },
 "nbformat": 4,
 "nbformat_minor": 5
}
