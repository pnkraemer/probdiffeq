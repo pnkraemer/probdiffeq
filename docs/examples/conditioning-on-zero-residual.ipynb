{
 "cells": [
  {
   "cell_type": "markdown",
   "id": "f1c6be65",
   "metadata": {},
   "source": [
    "# Probabilistic solvers as collocation methods\n",
    "\n",
    "Probabilistic solvers condition a prior distribution on satisfying an ODE on a specified grid.\n"
   ]
  },
  {
   "cell_type": "code",
   "execution_count": 1,
   "id": "a2b5dd10",
   "metadata": {},
   "outputs": [],
   "source": [
    "import jax\n",
    "import jax.numpy as jnp\n",
    "import matplotlib.pyplot as plt\n",
    "from diffeqzoo import backend, ivps\n",
    "from jax.config import config\n",
    "\n",
    "from probdiffeq import controls, dense_output, ivpsolve, solvers\n",
    "from probdiffeq.implementations import recipes\n",
    "from probdiffeq.strategies import smoothers\n",
    "\n",
    "if not backend.has_been_selected:\n",
    "    backend.select(\"jax\")  # ivp examples in jax\n",
    "\n",
    "\n",
    "config.update(\"jax_enable_x64\", True)\n",
    "config.update(\"jax_platform_name\", \"cpu\")"
   ]
  },
  {
   "cell_type": "code",
   "execution_count": null,
   "id": "cc2f7f4a",
   "metadata": {},
   "outputs": [],
   "source": []
  },
  {
   "cell_type": "code",
   "execution_count": 2,
   "id": "d6899fb9",
   "metadata": {},
   "outputs": [],
   "source": [
    "# Make a problem\n",
    "f, u0, (t0, t1), f_args = ivps.affine_independent()\n",
    "f_vect = jax.vmap(f, in_axes=(0, None, None))\n",
    "\n",
    "\n",
    "@jax.jit\n",
    "def vector_field(y, *, t, p):\n",
    "    return f(y, *p)\n",
    "\n",
    "\n",
    "# Make a solver\n",
    "solver = solvers.MLESolver(\n",
    "    smoothers.Smoother(recipes.VectMM1.from_params(ode_shape=(1,), num_derivatives=1))\n",
    ")"
   ]
  },
  {
   "cell_type": "code",
   "execution_count": 3,
   "id": "f674b324",
   "metadata": {},
   "outputs": [
    {
     "name": "stdout",
     "output_type": "stream",
     "text": [
      "CPU times: user 1.57 s, sys: 15.8 ms, total: 1.59 s\n",
      "Wall time: 1.56 s\n"
     ]
    }
   ],
   "source": [
    "%%time\n",
    "\n",
    "# Solve the ODE with low precision\n",
    "solution = ivpsolve.solve(\n",
    "    vector_field,\n",
    "    initial_values=(u0[None],),\n",
    "    t0=t0,\n",
    "    t1=t1,\n",
    "    rtol=1e-2,\n",
    "    solver=solver,\n",
    "    parameters=f_args,\n",
    "    control=controls.ClippedIntegral(),\n",
    ")"
   ]
  },
  {
   "cell_type": "code",
   "execution_count": 4,
   "id": "92c27d97",
   "metadata": {},
   "outputs": [],
   "source": [
    "# Evalate the posterior on a dense grid\n",
    "\n",
    "eps = 1e-4\n",
    "mesh = jnp.linspace(t0 + eps, t1 - eps, num=50, endpoint=True)\n",
    "_, marginals = dense_output.offgrid_marginals_searchsorted(\n",
    "    ts=mesh, solution=solution, solver=solver\n",
    ")\n",
    "\n",
    "posterior_u = marginals.marginal_nth_derivative(0).mean\n",
    "posterior_du = marginals.marginal_nth_derivative(1).mean"
   ]
  },
  {
   "cell_type": "code",
   "execution_count": 6,
   "id": "096a5fef",
   "metadata": {},
   "outputs": [],
   "source": [
    "# Extrapolate the prior on the dense grid\n",
    "\n",
    "extrapolation_model = solver.strategy.implementation.extrapolation\n",
    "taylor_coefficients = jnp.reshape(\n",
    "    solution.marginals.hidden_state.mean[0, ...],\n",
    "    solution.marginals.target_shape,\n",
    "    order=\"F\",\n",
    ")\n",
    "\n",
    "\n",
    "@jax.jit\n",
    "def extrapolate_fn(rv, model, dt, scale_sqrtm):\n",
    "    ssv, cache = model.begin_extrapolation(rv, dt)\n",
    "    rv = model.complete_extrapolation(\n",
    "        ssv, p0=rv, cache=cache, output_scale_sqrtm=scale_sqrtm\n",
    "    )\n",
    "    return rv\n",
    "\n",
    "\n",
    "prior_u = []\n",
    "prior_du = []\n",
    "rv = extrapolation_model.init_corrected(taylor_coefficients)\n",
    "for t_old, t_new in zip(mesh[:-1], mesh[1:]):\n",
    "\n",
    "    prior_u.append(rv.marginal_nth_derivative(0).mean)\n",
    "    prior_du.append(rv.marginal_nth_derivative(1).mean)\n",
    "\n",
    "    dt = t_new - t_old\n",
    "    rv = extrapolate_fn(rv, extrapolation_model, dt, solution.output_scale_sqrtm.mean())\n",
    "\n",
    "prior_u.append(rv.marginal_nth_derivative(0).mean)\n",
    "prior_du.append(rv.marginal_nth_derivative(1).mean)"
   ]
  },
  {
   "cell_type": "code",
   "execution_count": null,
   "id": "2bdc2e95",
   "metadata": {},
   "outputs": [
    {
     "ename": "TypeError",
     "evalue": "can't multiply sequence by non-int of type 'float'",
     "output_type": "error",
     "traceback": [
      "\u001b[0;31m---------------------------------------------------------------------------\u001b[0m",
      "\u001b[0;31mTypeError\u001b[0m                                 Traceback (most recent call last)",
      "Cell \u001b[0;32mIn [7], line 20\u001b[0m\n\u001b[1;32m     17\u001b[0m ax1\u001b[38;5;241m.\u001b[39mplot(mesh, posterior_u)\n\u001b[1;32m     18\u001b[0m ax1\u001b[38;5;241m.\u001b[39mplot(mesh, posterior_u, linestyle\u001b[38;5;241m=\u001b[39m\u001b[38;5;124m\"\u001b[39m\u001b[38;5;124mdotted\u001b[39m\u001b[38;5;124m\"\u001b[39m, color\u001b[38;5;241m=\u001b[39m\u001b[38;5;124m\"\u001b[39m\u001b[38;5;124mC1\u001b[39m\u001b[38;5;124m\"\u001b[39m)\n\u001b[0;32m---> 20\u001b[0m ax2\u001b[38;5;241m.\u001b[39mplot(mesh, prior_du \u001b[38;5;241m-\u001b[39m \u001b[43mf_vect\u001b[49m\u001b[43m(\u001b[49m\u001b[43mprior_u\u001b[49m\u001b[43m,\u001b[49m\u001b[43m \u001b[49m\u001b[38;5;241;43m*\u001b[39;49m\u001b[43mf_args\u001b[49m\u001b[43m)\u001b[49m)\n\u001b[1;32m     21\u001b[0m ax2\u001b[38;5;241m.\u001b[39maxhline(\u001b[38;5;241m0.0\u001b[39m, linestyle\u001b[38;5;241m=\u001b[39m\u001b[38;5;124m\"\u001b[39m\u001b[38;5;124mdotted\u001b[39m\u001b[38;5;124m\"\u001b[39m, color\u001b[38;5;241m=\u001b[39m\u001b[38;5;124m\"\u001b[39m\u001b[38;5;124mC1\u001b[39m\u001b[38;5;124m\"\u001b[39m)\n\u001b[1;32m     22\u001b[0m ax3\u001b[38;5;241m.\u001b[39mplot(mesh, posterior_du \u001b[38;5;241m-\u001b[39m f_vect(posterior_u, \u001b[38;5;241m*\u001b[39mf_args))\n",
      "    \u001b[0;31m[... skipping hidden 3 frame]\u001b[0m\n",
      "File \u001b[0;32m~/Programmes/probdiffeq-project/env/lib/python3.10/site-packages/diffeqzoo/_vector_fields.py:215\u001b[0m, in \u001b[0;36maffine_independent\u001b[0;34m(u, a, b)\u001b[0m\n\u001b[1;32m    214\u001b[0m \u001b[38;5;28;01mdef\u001b[39;00m \u001b[38;5;21maffine_independent\u001b[39m(u, \u001b[38;5;241m/\u001b[39m, a, b):\n\u001b[0;32m--> 215\u001b[0m     \u001b[38;5;28;01mreturn\u001b[39;00m \u001b[43ma\u001b[49m\u001b[43m \u001b[49m\u001b[38;5;241;43m*\u001b[39;49m\u001b[43m \u001b[49m\u001b[43mu\u001b[49m \u001b[38;5;241m+\u001b[39m b\n",
      "\u001b[0;31mTypeError\u001b[0m: can't multiply sequence by non-int of type 'float'"
     ]
    }
   ],
   "source": [
    "# Plot the samples\n",
    "\n",
    "fig, axes = plt.subplots(nrows=3, ncols=2, sharex=True, sharey=\"row\")\n",
    "((ax0, ax1), (ax2, ax3), (ax4, ax5)) = axes\n",
    "\n",
    "\n",
    "ax0.set_title(\"Prior\")\n",
    "ax1.set_title(\"Posterior\")\n",
    "\n",
    "ax0.set_ylabel(\"State\")\n",
    "ax2.set_ylabel(\"Residual\")\n",
    "ax4.set_ylabel(\"|| Residual ||\")\n",
    "\n",
    "\n",
    "ax0.plot(mesh, prior_u, label=\"Estimate\")\n",
    "ax0.plot(mesh, posterior_u, linestyle=\"dotted\", color=\"C1\", label=\"Target\")\n",
    "ax1.plot(mesh, posterior_u)\n",
    "ax1.plot(mesh, posterior_u, linestyle=\"dotted\", color=\"C1\")\n",
    "\n",
    "ax2.plot(mesh, prior_du - f_vect(prior_u, *f_args))\n",
    "ax2.axhline(0.0, linestyle=\"dotted\", color=\"C1\")\n",
    "ax3.plot(mesh, posterior_du - f_vect(posterior_u, *f_args))\n",
    "ax3.axhline(0.0, linestyle=\"dotted\", color=\"C1\")\n",
    "\n",
    "# clip = 1e-8\n",
    "clip = 0.0\n",
    "ax4.semilogy(mesh, jnp.abs(prior_du - f_vect(prior_u, *f_args)) + clip)\n",
    "ax5.semilogy(mesh, jnp.abs(posterior_du - f_vect(posterior_u, *f_args)) + clip)\n",
    "ax4.axhline(clip, linestyle=\"dotted\", color=\"C1\")\n",
    "ax5.axhline(clip, linestyle=\"dotted\", color=\"C1\")\n",
    "ax4.set_ylim((1e-8, 1e0))\n",
    "ax5.set_ylim((1e-8, 1e0))\n",
    "# for t in solution.t:\n",
    "#     ax5.axvline(t, linestyle=\"dotted\")\n",
    "\n",
    "# for ax in (ax2, ax3, ax4, ax5):\n",
    "#     ax.axhline(0., linestyle=\"dotted\")\n",
    "\n",
    "\n",
    "ax0.set_xlim((t0, t1))\n",
    "# ax0.set_ylim((-20, 40))\n",
    "# ax2.set_ylim((-100, 100))\n",
    "ax0.legend()\n",
    "plt.tight_layout()\n",
    "fig.align_ylabels()\n",
    "# plt.savefig(\"Figure.pdf\")\n",
    "plt.show()"
   ]
  },
  {
   "cell_type": "markdown",
   "id": "85d670c7",
   "metadata": {},
   "source": [
    "The prior state estimate (top left) has a large residual $\\dot u - f(u)$. By conditioning on satisfying a zero residual (bottom left to bottom right), the state estimate becomes a useful ODE solution (top right)."
   ]
  }
 ],
 "metadata": {
  "jupytext": {
   "formats": "ipynb,md"
  },
  "kernelspec": {
   "display_name": "Python 3 (ipykernel)",
   "language": "python",
   "name": "python3"
  },
  "language_info": {
   "codemirror_mode": {
    "name": "ipython",
    "version": 3
   },
   "file_extension": ".py",
   "mimetype": "text/x-python",
   "name": "python",
   "nbconvert_exporter": "python",
   "pygments_lexer": "ipython3",
   "version": "3.10.6"
  }
 },
 "nbformat": 4,
 "nbformat_minor": 5
}
