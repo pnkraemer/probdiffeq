{
 "cells": [
  {
   "cell_type": "markdown",
   "id": "3d68c62f",
   "metadata": {},
   "source": [
    "# Parameter estimation with BlackJAX\n",
    "\n",
    "\n",
    "This tutorial explains how to estimate unknown parameters of initial value problems (IVPs) using Markov Chain Monte Carlo (MCMC) methods as provided by [BlackJAX](https://blackjax-devs.github.io/blackjax/).\n",
    "\n",
    "## TL;DR\n",
    "Compute log-posterior of IVP parameters given observations of the IVP solution with ProbDiffEq. Sample from this posterior using BlackJAX.\n",
    "Evaluating the log-likelihood of the data is described [in this paper](https://arxiv.org/abs/2202.01287). Based on this log-likelihood, sampling from the log-posterior is as done [in this paper](https://arxiv.org/abs/2002.09301).\n",
    "\n",
    "\n",
    "## Technical setup\n",
    "Let $f$ be a known vector field. In this example, we use the Lotka-Volterra model.\n",
    "Consider an ordinary differential equation \n",
    "\n",
    "$$\n",
    "\\dot y(t) = f(y(t)), \\quad 0 \\leq t \\leq T\n",
    "$$\n",
    "\n",
    "subject to an unknown initial condition $y(0) = \\theta$.\n",
    "Recall from the previous tutorials that the probabilistic IVP solution is an approximation of the posterior distribution\n",
    "\n",
    "$$\n",
    "p\\left(y ~|~ [\\dot y(t_n) = f(y(t_n))]_{n=0}^N, y(0) = \\theta\\right)\n",
    "$$\n",
    "\n",
    "for a Gaussian prior over $y$ and a pre-determined or adaptively selected grid $t_0, ..., t_N$.\n",
    "\n",
    "We don't know the initial condition of the IVP, but assume that we have noisy observations of the IVP soution $y$ at the terminal time $T$ of the integration problem,\n",
    "\n",
    "$$\n",
    "p(\\text{data}~|~ y(T)) = N(y(T), \\sigma^2 I)\n",
    "$$\n",
    "\n",
    "for some $\\sigma > 0$.\n",
    "We can use these observations to reconstruct $\\theta$, for example by sampling from $p(\\text{data}~|~\\theta)$ (which is a function of $\\theta$).\n",
    "\n",
    "Now, one way of evaluating $p(\\text{data} ~|~ \\theta)$ is to use any numerical solver, for example a Runge-Kutta method, to approximate $y(T)$ from $\\theta$ and evaluate $N(y(T), \\sigma^2 I)$.\n",
    "But this ignores a few crucial concepts (e.g., the numerical error of the approximation; we refer to the references linked above). \n",
    "Instead, we can use a probabilistic solver instead of \"any\" numerical solver and build a more comprehensive model:\n",
    "\n",
    "**We can combine probabilistic IVP solvers with MCMC methods to estimate $\\theta$ from $\\text{data}$ in a way that quantifies numerical approximation errors (and other model mismatches).**\n",
    "To do so, we approximate the distribution of the IVP solution given the parameter $p(y(T) \\mid \\theta)$ and evaluate the marginal distribution of $N(y(T), \\sigma^2I)$ given the probabilistic IVP solution.\n",
    "More formally, we use ProbDiffEq to evaluate the density of the unnormalised posterior\n",
    "\n",
    "$$\n",
    "M(\\theta) := p(\\theta \\mid \\text{data})\\propto p(\\text{data} \\mid \\theta)p(\\theta)\n",
    "$$\n",
    "\n",
    "where \"$\\propto$\" means \"proportional to\" and the likelihood stems from the IVP solution\n",
    "\n",
    "$$\n",
    "p(\\text{data} \\mid \\theta) = \\int p(\\text{data} \\mid y(T)) p(y(T) \\mid [\\dot y(t_n) = f(y(t_n))]_{n=0}^N, y(0) = \\theta), \\theta) d y(T)\n",
    "$$\n",
    "Loosely speaking, this distribution averages $N(y(T), \\sigma^2I)$ over all IVP solutions $y(T)$ that are realistic given the differential equation, grid $t_0, ..., t_N$, and prior distribution $p(y)$.\n",
    "This is useful, because if the approximation error is large, $M(\\theta)$ \"knows this\". If the approximation error is ridiculously small, $M(\\theta)$ \"knows this\" too and  we recover the procedure described for non-probabilistic solvers above.\n",
    "**Interestingly, non-probabilistic solvers cannot do this** averaging because they do not yield a statistical description of estimated IVP solutions.\n",
    "Non-probabilistic solvers would also fail if the observations were noise-free (i.e. $\\sigma = 0$), but the present example notebook remains stable. (Try it yourself!)\n",
    "\n",
    "\n",
    "\n",
    "To sample $\\theta$ according to $M$ (respectively $\\log M$), we evaluate $M(\\theta)$ with ProbDiffEq, compute its gradient with JAX, and use this gradient to sample $\\theta$ with BlackJAX:\n",
    "\n",
    "1. ProbDiffEq: Compute the probabilistic IVP solution by approximating $p(y(T) ~|~ [\\dot y(t_n) = f(y(t_n))]_n, y(0) = \\theta)$\n",
    "\n",
    "2. ProbDiffEq: Evaluate  $M(\\theta)$ by marginalising over the IVP solution computed in step 1.\n",
    "\n",
    "3. JAX: Compute the gradient $\\nabla_\\theta M(\\theta)$\n",
    "\n",
    "4. BlackJAX: Sample from $\\log M(\\theta)$ using, for example, the No-U-Turn-Sampler (which requires $\\nabla_\\theta M(\\theta))$.\n",
    "\n",
    "Here is how:"
   ]
  },
  {
   "cell_type": "code",
   "execution_count": 1,
   "id": "86d9b272",
   "metadata": {
    "execution": {
     "iopub.execute_input": "2023-02-17T08:56:50.989897Z",
     "iopub.status.busy": "2023-02-17T08:56:50.989046Z",
     "iopub.status.idle": "2023-02-17T08:56:51.947224Z",
     "shell.execute_reply": "2023-02-17T08:56:51.946451Z"
    }
   },
   "outputs": [],
   "source": [
    "import functools\n",
    "\n",
    "import blackjax\n",
    "import jax\n",
    "import jax.experimental.ode\n",
    "import jax.numpy as jnp\n",
    "import matplotlib.pyplot as plt\n",
    "from diffeqzoo import backend, ivps\n",
    "from jax.config import config\n",
    "\n",
    "from probdiffeq import solution_routines, solvers\n",
    "from probdiffeq.doc_util import notebook\n",
    "from probdiffeq.implementations import recipes\n",
    "from probdiffeq.strategies import filters"
   ]
  },
  {
   "cell_type": "code",
   "execution_count": null,
   "id": "3a9ccfb7",
   "metadata": {},
   "outputs": [],
   "source": [
    "# x64 precision\n",
    "config.update(\"jax_enable_x64\", True)\n",
    "\n",
    "# CPU\n",
    "config.update(\"jax_platform_name\", \"cpu\")\n",
    "\n",
    "# IVP examples in JAX\n",
    "if not backend.has_been_selected:\n",
    "    backend.select(\"jax\")\n",
    "\n",
    "# Nice-looking plots\n",
    "plt.rcParams.update(notebook.plot_config())"
   ]
  },
  {
   "cell_type": "markdown",
   "id": "fe32f929",
   "metadata": {},
   "source": [
    "## Problem setting\n",
    "\n",
    "First, we set up an IVP and create some artificial data by simulating the system with \"incorrect\" initial conditions."
   ]
  },
  {
   "cell_type": "code",
   "execution_count": null,
   "id": "2066d5a1",
   "metadata": {
    "execution": {
     "iopub.execute_input": "2023-02-17T08:56:51.950211Z",
     "iopub.status.busy": "2023-02-17T08:56:51.949839Z",
     "iopub.status.idle": "2023-02-17T08:56:54.142978Z",
     "shell.execute_reply": "2023-02-17T08:56:54.142050Z"
    }
   },
   "outputs": [],
   "source": [
    "f, u0, (t0, t1), f_args = ivps.lotka_volterra()\n",
    "\n",
    "\n",
    "@jax.jit\n",
    "def vf(y, *, t, p=()):\n",
    "    return f(y, *f_args)\n",
    "\n",
    "\n",
    "theta_true = u0 + 0.5 * jnp.flip(u0)\n",
    "theta_guess = u0  # initial guess\n",
    "\n",
    "# Create a probabilistic solver\n",
    "strategy = filters.Filter(\n",
    "    recipes.IsoTS0.from_params(num_derivatives=2),\n",
    ")\n",
    "solver = solvers.CalibrationFreeSolver(strategy, output_scale_sqrtm=10.0)"
   ]
  },
  {
   "cell_type": "code",
   "execution_count": null,
   "id": "6237c0fb",
   "metadata": {},
   "outputs": [],
   "source": [
    "def plot_solution(sol, *, ax, marker=\".\", **plotting_kwargs):\n",
    "    for d in [0, 1]:\n",
    "        ax.plot(sol.t, sol.u[:, d], marker=\"None\", **plotting_kwargs)\n",
    "        ax.plot(sol.t[0], sol.u[0, d], marker=marker, **plotting_kwargs)\n",
    "        ax.plot(sol.t[-1], sol.u[-1, d], marker=marker, **plotting_kwargs)\n",
    "    return ax\n",
    "\n",
    "\n",
    "@jax.jit\n",
    "def solve_adaptive(theta, *, save_at):\n",
    "    return solution_routines.solve_and_save_at(\n",
    "        vf, initial_values=(theta,), save_at=save_at, solver=solver\n",
    "    )\n",
    "\n",
    "\n",
    "save_at = jnp.linspace(t0, t1, num=250, endpoint=True)\n",
    "solve_save_at = functools.partial(solve_adaptive, save_at=save_at)"
   ]
  },
  {
   "cell_type": "code",
   "execution_count": null,
   "id": "e55a11f6",
   "metadata": {
    "scrolled": true
   },
   "outputs": [],
   "source": [
    "# Visualise the initial guess and the data\n",
    "\n",
    "fig, ax = plt.subplots()\n",
    "\n",
    "data_kwargs = {\"alpha\": 0.5, \"color\": \"gray\"}\n",
    "ax.annotate(\"Data\", (13.0, 30.0), **data_kwargs)\n",
    "solution = solve_save_at(theta_true)\n",
    "ax = plot_solution(solution, ax=ax, **data_kwargs)\n",
    "\n",
    "guess_kwargs = {\"color\": \"C3\"}\n",
    "ax.annotate(\"Initial guess\", (7.5, 20.0), **guess_kwargs)\n",
    "solution = solve_save_at(theta_guess)\n",
    "ax = plot_solution(solution, ax=ax, **guess_kwargs)\n",
    "plt.show()"
   ]
  },
  {
   "cell_type": "markdown",
   "id": "9f8401fe",
   "metadata": {},
   "source": [
    "## Log-posterior densities via ProbDiffEq\n",
    "\n",
    "Set up a log-posterior density function that we can plug into BlackJAX. Choose a Gaussian prior centered at the initial guess with a large variance."
   ]
  },
  {
   "cell_type": "code",
   "execution_count": null,
   "id": "c30c0fda",
   "metadata": {},
   "outputs": [],
   "source": [
    "mean = theta_guess\n",
    "cov = jnp.eye(2) * 30  # fairly uninformed prior\n",
    "\n",
    "\n",
    "@jax.jit\n",
    "def logposterior_fn(theta, *, data, ts, solver, obs_stdev=0.1):\n",
    "    y_T = solve_fixed(theta, ts=ts, solver=solver)\n",
    "    marginals, _ = y_T.posterior.condition_on_qoi_observation(\n",
    "        data, observation_std=obs_stdev\n",
    "    )\n",
    "    return marginals.logpdf(data) + jax.scipy.stats.multivariate_normal.logpdf(\n",
    "        theta, mean=mean, cov=cov\n",
    "    )\n",
    "\n",
    "\n",
    "# Fixed steps for reverse-mode differentiability:\n",
    "\n",
    "\n",
    "@jax.jit\n",
    "def solve_fixed(theta, *, ts, solver):\n",
    "    sol = solution_routines.solve_fixed_grid(\n",
    "        vf, initial_values=(theta,), grid=ts, solver=solver\n",
    "    )\n",
    "    return sol[-1]\n",
    "\n",
    "\n",
    "ts = jnp.linspace(t0, t1, endpoint=True, num=100)\n",
    "data = solve_fixed(theta_true, ts=ts, solver=solver).u\n",
    "\n",
    "log_M = functools.partial(logposterior_fn, data=data, ts=ts, solver=solver)"
   ]
  },
  {
   "cell_type": "code",
   "execution_count": null,
   "id": "8802035f",
   "metadata": {
    "execution": {
     "iopub.execute_input": "2023-02-17T08:56:54.145672Z",
     "iopub.status.busy": "2023-02-17T08:56:54.145496Z",
     "iopub.status.idle": "2023-02-17T08:56:54.800016Z",
     "shell.execute_reply": "2023-02-17T08:56:54.799149Z"
    }
   },
   "outputs": [],
   "source": [
    "print(jnp.exp(log_M(theta_true)), \">=\", jnp.exp(log_M(theta_guess)), \"?\")"
   ]
  },
  {
   "cell_type": "markdown",
   "id": "60704503",
   "metadata": {},
   "source": [
    "## Sampling with BlackJAX\n",
    "\n",
    "From here on, BlackJAX takes over:"
   ]
  },
  {
   "cell_type": "markdown",
   "id": "12ea2115",
   "metadata": {},
   "source": [
    "Set up a sampler."
   ]
  },
  {
   "cell_type": "code",
   "execution_count": null,
   "id": "830fb73a",
   "metadata": {
    "execution": {
     "iopub.execute_input": "2023-02-17T08:56:54.809563Z",
     "iopub.status.busy": "2023-02-17T08:56:54.809391Z",
     "iopub.status.idle": "2023-02-17T08:56:54.812790Z",
     "shell.execute_reply": "2023-02-17T08:56:54.812194Z"
    }
   },
   "outputs": [],
   "source": [
    "@functools.partial(jax.jit, static_argnames=[\"kernel\", \"num_samples\"])\n",
    "def inference_loop(rng_key, kernel, initial_state, num_samples):\n",
    "    def one_step(state, rng_key):\n",
    "        state, _ = kernel(rng_key, state)\n",
    "        return state, state\n",
    "\n",
    "    keys = jax.random.split(rng_key, num_samples)\n",
    "    _, states = jax.lax.scan(one_step, initial_state, keys)\n",
    "\n",
    "    return states"
   ]
  },
  {
   "cell_type": "markdown",
   "id": "84d2177f",
   "metadata": {},
   "source": [
    "Initialise the sampler, warm it up, and run the inference loop."
   ]
  },
  {
   "cell_type": "code",
   "execution_count": null,
   "id": "76f4ae29",
   "metadata": {
    "execution": {
     "iopub.execute_input": "2023-02-17T08:56:54.815689Z",
     "iopub.status.busy": "2023-02-17T08:56:54.815453Z",
     "iopub.status.idle": "2023-02-17T08:56:54.869574Z",
     "shell.execute_reply": "2023-02-17T08:56:54.868654Z"
    }
   },
   "outputs": [],
   "source": [
    "initial_position = theta_guess\n",
    "rng_key = jax.random.PRNGKey(0)"
   ]
  },
  {
   "cell_type": "code",
   "execution_count": null,
   "id": "b1cd38b8",
   "metadata": {
    "execution": {
     "iopub.execute_input": "2023-02-17T08:56:54.872822Z",
     "iopub.status.busy": "2023-02-17T08:56:54.872631Z",
     "iopub.status.idle": "2023-02-17T08:57:02.271115Z",
     "shell.execute_reply": "2023-02-17T08:57:02.270188Z"
    }
   },
   "outputs": [],
   "source": [
    "# WARMUP\n",
    "warmup = blackjax.window_adaptation(\n",
    "    algorithm=blackjax.nuts, logprob_fn=log_M, num_steps=200, progress_bar=True\n",
    ")\n",
    "initial_state, nuts_kernel, _ = warmup.run(rng_key, initial_position)"
   ]
  },
  {
   "cell_type": "code",
   "execution_count": null,
   "id": "93a531b1",
   "metadata": {
    "execution": {
     "iopub.execute_input": "2023-02-17T08:57:02.275370Z",
     "iopub.status.busy": "2023-02-17T08:57:02.275068Z",
     "iopub.status.idle": "2023-02-17T08:57:08.044359Z",
     "shell.execute_reply": "2023-02-17T08:57:08.043783Z"
    }
   },
   "outputs": [],
   "source": [
    "# INFERENCE LOOP\n",
    "rng_key, _ = jax.random.split(rng_key, 2)\n",
    "states = inference_loop(\n",
    "    rng_key, kernel=nuts_kernel, initial_state=initial_state, num_samples=150\n",
    ")"
   ]
  },
  {
   "cell_type": "markdown",
   "id": "99be3ea9",
   "metadata": {},
   "source": [
    "## Visualisation\n",
    "\n",
    "Now that we have samples of $\\theta$, let's plot the corresponding solutions:"
   ]
  },
  {
   "cell_type": "code",
   "execution_count": null,
   "id": "6a12bbb3",
   "metadata": {},
   "outputs": [],
   "source": [
    "solution_samples = jax.vmap(solve_save_at)(states.position)"
   ]
  },
  {
   "cell_type": "code",
   "execution_count": null,
   "id": "72dd5cbe",
   "metadata": {},
   "outputs": [],
   "source": [
    "# Visualise the initial guess and the data\n",
    "\n",
    "fig, ax = plt.subplots()\n",
    "\n",
    "sample_kwargs = {\"color\": \"C0\"}\n",
    "ax.annotate(\"Samples\", (2.75, 31.0), **sample_kwargs)\n",
    "for sol in solution_samples:\n",
    "    ax = plot_solution(sol, ax=ax, linewidth=0.1, alpha=0.75, **sample_kwargs)\n",
    "\n",
    "data_kwargs = {\"color\": \"gray\"}\n",
    "ax.annotate(\"Data\", (18.25, 40.0), **data_kwargs)\n",
    "solution = solve_save_at(theta_true)\n",
    "ax = plot_solution(solution, ax=ax, linewidth=4, alpha=0.5, **data_kwargs)\n",
    "\n",
    "guess_kwargs = {\"color\": \"gray\"}\n",
    "ax.annotate(\"Initial guess\", (6.0, 12.0), **guess_kwargs)\n",
    "solution = solve_save_at(theta_guess)\n",
    "ax = plot_solution(solution, ax=ax, linestyle=\"dashed\", alpha=0.75, **guess_kwargs)\n",
    "plt.show()"
   ]
  },
  {
   "cell_type": "markdown",
   "id": "b7ac9a2e",
   "metadata": {},
   "source": [
    "The samples cover a perhaps surpringly large range of potential initial conditions, but lead to the \"correct\" data.\n",
    "\n",
    "In parameter space, this is what it looks like:"
   ]
  },
  {
   "cell_type": "code",
   "execution_count": null,
   "id": "6a302301",
   "metadata": {
    "execution": {
     "iopub.execute_input": "2023-02-17T08:57:13.110710Z",
     "iopub.status.busy": "2023-02-17T08:57:13.110253Z",
     "iopub.status.idle": "2023-02-17T08:57:13.450692Z",
     "shell.execute_reply": "2023-02-17T08:57:13.450124Z"
    }
   },
   "outputs": [],
   "source": [
    "plt.title(\"Posterior samples (parameter space)\")\n",
    "plt.plot(states.position[:, 0], states.position[:, 1], \"o\", alpha=0.5, markersize=4)\n",
    "plt.plot(theta_true[0], theta_true[1], \"P\", label=\"Truth\", markersize=8)\n",
    "plt.plot(theta_guess[0], theta_guess[1], \"P\", label=\"Initial guess\", markersize=8)\n",
    "plt.legend()\n",
    "plt.show()"
   ]
  },
  {
   "cell_type": "markdown",
   "id": "b9dc338f",
   "metadata": {},
   "source": [
    "Let's add the value of $M$ to the plot to see whether the sampler covers the entire region of interest."
   ]
  },
  {
   "cell_type": "code",
   "execution_count": null,
   "id": "56271364",
   "metadata": {
    "execution": {
     "iopub.execute_input": "2023-02-17T08:57:13.455912Z",
     "iopub.status.busy": "2023-02-17T08:57:13.455714Z",
     "iopub.status.idle": "2023-02-17T08:57:13.593267Z",
     "shell.execute_reply": "2023-02-17T08:57:13.592385Z"
    }
   },
   "outputs": [],
   "source": [
    "xlim = 18, jnp.amax(states.position[:, 0]) + 0.5\n",
    "ylim = 18, jnp.amax(states.position[:, 1]) + 0.5\n",
    "\n",
    "xs = jnp.linspace(*xlim, num=300)\n",
    "ys = jnp.linspace(*ylim, num=300)\n",
    "Xs, Ys = jnp.meshgrid(xs, ys)\n",
    "\n",
    "Thetas = jnp.stack((Xs, Ys))\n",
    "log_M_vmapped_x = jax.vmap(log_M, in_axes=-1, out_axes=-1)\n",
    "log_M_vmapped = jax.vmap(log_M_vmapped_x, in_axes=-1, out_axes=-1)\n",
    "Zs = log_M_vmapped(Thetas)"
   ]
  },
  {
   "cell_type": "code",
   "execution_count": null,
   "id": "314e4dba",
   "metadata": {},
   "outputs": [],
   "source": [
    "fig, ax = plt.subplots(ncols=2, sharex=True, sharey=True)\n",
    "\n",
    "ax_samples, ax_heatmap = ax\n",
    "\n",
    "fig.suptitle(\"Posterior samples (parameter space)\")\n",
    "ax_samples.plot(\n",
    "    states.position[:, 0], states.position[:, 1], \".\", alpha=0.5, markersize=4\n",
    ")\n",
    "ax_samples.plot(theta_true[0], theta_true[1], \"P\", label=\"Truth\", markersize=8)\n",
    "ax_samples.plot(\n",
    "    theta_guess[0], theta_guess[1], \"P\", label=\"Initial guess\", markersize=8\n",
    ")\n",
    "ax_samples.legend()\n",
    "im = ax_heatmap.contourf(Xs, Ys, jnp.exp(Zs), cmap=\"cividis\", alpha=0.8)\n",
    "plt.colorbar(im)\n",
    "plt.show()"
   ]
  },
  {
   "cell_type": "markdown",
   "id": "65cfed1a",
   "metadata": {},
   "source": [
    "Looks great!\n",
    "\n",
    "## Conclusion\n",
    "\n",
    "In conclusion, a log-posterior density function can be provided by ProbDiffEq such that any of BlackJAX' samplers yield parameter estimates of IVPs. \n",
    "\n",
    "\n",
    "## What's next\n",
    "\n",
    "Try to get a feeling for how the sampler reacts to changing observation noises, solver parameters, and so on.\n",
    "We could extend the sampling problem from $\\theta \\mapsto \\log M(\\theta)$ to some $(\\theta, \\sigma) \\mapsto \\log \\tilde M(\\theta, \\sigma)$, i.e., treat the observation noise as unknown and run Hamiltonian Monte Carlo in a higher-dimensional parameter space.\n",
    "We could also add a more suitable prior distribution $p(\\theta)$ to regularise the problem.\n",
    "\n",
    "\n",
    "A final side note:\n",
    "We could also replace the sampler with an optimisation algorithm and use this procedure to solve boundary value problems (albeit this may not be very efficient; use [this](https://arxiv.org/abs/2106.07761) algorithm instead)."
   ]
  }
 ],
 "metadata": {
  "jupytext": {
   "formats": "ipynb,md"
  },
  "kernelspec": {
   "display_name": "Python 3 (ipykernel)",
   "language": "python",
   "name": "python3"
  },
  "language_info": {
   "codemirror_mode": {
    "name": "ipython",
    "version": 3
   },
   "file_extension": ".py",
   "mimetype": "text/x-python",
   "name": "python",
   "nbconvert_exporter": "python",
   "pygments_lexer": "ipython3",
   "version": "3.10.6"
  }
 },
 "nbformat": 4,
 "nbformat_minor": 5
}
