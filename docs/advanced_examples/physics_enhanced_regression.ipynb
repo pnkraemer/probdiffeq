{
 "cells": [
  {
   "cell_type": "markdown",
   "id": "061db103",
   "metadata": {},
   "source": [
    "# Physics-enhanced regression"
   ]
  },
  {
   "cell_type": "code",
   "execution_count": 1,
   "id": "78a35996",
   "metadata": {},
   "outputs": [],
   "source": [
    "import jax\n",
    "import jax.numpy as jnp\n",
    "import jax.random\n",
    "import matplotlib.pyplot as plt\n",
    "from diffeqzoo import backend, ivps\n",
    "from jax.config import config\n",
    "\n",
    "from odefilter import dense_output, ivpsolve, solvers\n",
    "from odefilter.implementations import dense\n",
    "from odefilter.strategies import filters, smoothers\n",
    "\n",
    "config.update(\"jax_enable_x64\", True)\n",
    "\n",
    "if not backend.has_been_selected:\n",
    "    backend.select(\"jax\")"
   ]
  },
  {
   "cell_type": "code",
   "execution_count": 2,
   "id": "b3f027b2",
   "metadata": {},
   "outputs": [
    {
     "name": "stderr",
     "output_type": "stream",
     "text": [
      "WARNING:absl:No GPU/TPU found, falling back to CPU. (Set TF_CPP_MIN_LOG_LEVEL=0 and rerun for more info.)\n"
     ]
    }
   ],
   "source": [
    "f, u0, (t0, t1), f_args = ivps.seir()\n",
    "f_args = jnp.asarray(f_args)\n",
    "\n",
    "\n",
    "@jax.jit\n",
    "def vf(y, t, p):\n",
    "    return f(y, *p)"
   ]
  },
  {
   "cell_type": "code",
   "execution_count": 3,
   "id": "62062e94",
   "metadata": {},
   "outputs": [
    {
     "name": "stdout",
     "output_type": "stream",
     "text": [
      "[1.30798356e+02 2.55013487e-04 1.45378298e-03 8.70199923e+02]\n"
     ]
    }
   ],
   "source": [
    "# make data\n",
    "\n",
    "ts = jnp.linspace(t0, t1, endpoint=True, num=3)\n",
    "\n",
    "ek1 = solvers.MLESolver(\n",
    "    strategy=filters.Filter(\n",
    "        extrapolation=dense.IBM.from_params(ode_dimension=4),\n",
    "        correction=dense.TaylorFirstOrder(ode_dimension=4),\n",
    "    )\n",
    ")\n",
    "\n",
    "solution_true = ivpsolve.simulate_terminal_values(\n",
    "    vf, initial_values=(u0,), t0=t0, t1=t1, solver=ek1, parameters=f_args + 0.05\n",
    ")\n",
    "data = solution_true.u\n",
    "print(data)"
   ]
  },
  {
   "cell_type": "code",
   "execution_count": null,
   "id": "949d3707",
   "metadata": {},
   "outputs": [],
   "source": [
    "\n"
   ]
  },
  {
   "cell_type": "code",
   "execution_count": 4,
   "id": "5a4e920a",
   "metadata": {},
   "outputs": [
    {
     "name": "stdout",
     "output_type": "stream",
     "text": [
      "[5.89716318e+01 1.14974217e-03 1.45134400e-02 9.42012686e+02]\n"
     ]
    }
   ],
   "source": [
    "# Initial guess\n",
    "\n",
    "solution_wrong = ivpsolve.simulate_terminal_values(\n",
    "    vf, initial_values=(u0,), t0=t0, t1=t1, solver=ek1, parameters=f_args\n",
    ")\n",
    "print(solution_wrong.u)"
   ]
  },
  {
   "cell_type": "code",
   "execution_count": null,
   "id": "c39bbb24",
   "metadata": {},
   "outputs": [],
   "source": []
  },
  {
   "cell_type": "code",
   "execution_count": 5,
   "id": "e8bbb97d",
   "metadata": {},
   "outputs": [],
   "source": [
    "@jax.jit\n",
    "def param_to_nmll(p):\n",
    "    observation_std = jnp.ones_like(ts) * 0.1\n",
    "    solution_wrong = ivpsolve.simulate_terminal_values(\n",
    "        vf, initial_values=(u0,), t0=t0, t1=t1, solver=ek1, parameters=p\n",
    "    )\n",
    "\n",
    "    m_obs = ek1.strategy.correction._select_derivative(solution_wrong.marginals.mean, 0)\n",
    "    l_obs = ek1.strategy.correction._select_derivative_vect(\n",
    "        solution_wrong.marginals.cov_sqrtm_lower, 0\n",
    "    )\n",
    "\n",
    "    return (data - solution_wrong.u) @ (data - solution_wrong.u)\n",
    "\n",
    "\n",
    "#     return (solution_wrong.u[-1, ...] - 20.) @ (solution_wrong.u[-1, ...] - 20.)\n",
    "#     return dense_output.negative_marginal_log_likelihood(\n",
    "#         observation_std=observation_std, u=data, solution=solution_wrong, solver=ek1\n",
    "#     )"
   ]
  },
  {
   "cell_type": "code",
   "execution_count": 6,
   "id": "dba30656",
   "metadata": {},
   "outputs": [
    {
     "data": {
      "text/plain": [
       "DeviceArray(10316.15137609, dtype=float64)"
      ]
     },
     "execution_count": 6,
     "metadata": {},
     "output_type": "execute_result"
    }
   ],
   "source": [
    "param_to_nmll(f_args)"
   ]
  },
  {
   "cell_type": "code",
   "execution_count": 7,
   "id": "59e046ad",
   "metadata": {},
   "outputs": [],
   "source": [
    "df = jax.jit(jax.jacfwd(param_to_nmll))"
   ]
  },
  {
   "cell_type": "code",
   "execution_count": null,
   "id": "62394fe9",
   "metadata": {},
   "outputs": [
    {
     "name": "stdout",
     "output_type": "stream",
     "text": [
      "[-2.60744124e+00 -1.94274412e+04  5.82430278e+04  1.00384000e+03] [3.00e-01 3.00e-01 1.00e-01 9.98e+02]\n"
     ]
    }
   ],
   "source": [
    "f0 = f_args\n",
    "f1 = f0 - 1e-1 * df(f0)\n",
    "print(f1, f_args)\n",
    "f1 = f1 - 1e-1 * df(f1)\n",
    "print(f1, f_args)\n",
    "f1 = f1 - 1e-1 * df(f1)\n",
    "print(f1, f_args)"
   ]
  },
  {
   "cell_type": "code",
   "execution_count": null,
   "id": "586d6138",
   "metadata": {},
   "outputs": [],
   "source": []
  },
  {
   "cell_type": "code",
   "execution_count": null,
   "id": "4cdb0203",
   "metadata": {},
   "outputs": [],
   "source": []
  },
  {
   "cell_type": "code",
   "execution_count": null,
   "id": "f55f3694",
   "metadata": {},
   "outputs": [],
   "source": []
  },
  {
   "cell_type": "code",
   "execution_count": null,
   "id": "4edf658c",
   "metadata": {},
   "outputs": [],
   "source": []
  }
 ],
 "metadata": {
  "jupytext": {
   "formats": "ipynb,md"
  },
  "kernelspec": {
   "display_name": "Python 3 (ipykernel)",
   "language": "python",
   "name": "python3"
  },
  "language_info": {
   "codemirror_mode": {
    "name": "ipython",
    "version": 3
   },
   "file_extension": ".py",
   "mimetype": "text/x-python",
   "name": "python",
   "nbconvert_exporter": "python",
   "pygments_lexer": "ipython3",
   "version": "3.8.10"
  }
 },
 "nbformat": 4,
 "nbformat_minor": 5
}
