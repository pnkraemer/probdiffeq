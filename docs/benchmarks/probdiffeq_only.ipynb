{
 "cells": [
  {
   "cell_type": "markdown",
   "id": "5bcf2aa6",
   "metadata": {},
   "source": [
    "# Only probdiffeq-solvers\n",
    "\n",
    "Let's find the fastest solver of the Lotka--Volterra problem, a standard benchmark problem. It is low-dimensional, not stiff, and generally poses no major problems for any numerical solver."
   ]
  },
  {
   "cell_type": "code",
   "execution_count": 1,
   "id": "03689ed5",
   "metadata": {},
   "outputs": [],
   "source": [
    "import functools\n",
    "\n",
    "import jax\n",
    "import jax.experimental.ode\n",
    "import jax.numpy as jnp\n",
    "import matplotlib.pyplot as plt\n",
    "from diffeqzoo import backend, ivps\n",
    "from jax import config\n",
    "\n",
    "from probdiffeq import controls, cubature, solution_routines, solvers\n",
    "from probdiffeq.doc_util import benchmark, info, notebook, workprecision\n",
    "from probdiffeq.implementations import recipes\n",
    "from probdiffeq.strategies import filters, smoothers"
   ]
  },
  {
   "cell_type": "code",
   "execution_count": 2,
   "id": "05275c86",
   "metadata": {},
   "outputs": [
    {
     "name": "stdout",
     "output_type": "stream",
     "text": [
      "probdiffeq version:\n",
      "\t0.1.1.dev6+dirty\n",
      "Most recent commit:\n",
      "\tb'dd984c\\n'\n",
      "\n",
      "jax:    0.4.4\n",
      "jaxlib: 0.4.4\n",
      "numpy:  1.24.2\n",
      "python: 3.10.6 (main, Nov 14 2022, 16:10:14) [GCC 11.3.0]\n",
      "jax.devices (1 total, 1 local): [CpuDevice(id=0)]\n",
      "process_count: 1\n"
     ]
    }
   ],
   "source": [
    "# x64 precision\n",
    "config.update(\"jax_enable_x64\", True)\n",
    "\n",
    "# CPU\n",
    "config.update(\"jax_platform_name\", \"cpu\")\n",
    "\n",
    "# IVP examples in JAX\n",
    "if not backend.has_been_selected:\n",
    "    backend.select(\"jax\")\n",
    "\n",
    "# Nice-looking plots\n",
    "plt.rcParams.update(notebook.plot_config())\n",
    "\n",
    "# Which version of the softwares are we using?\n",
    "info.print_info()"
   ]
  },
  {
   "cell_type": "markdown",
   "id": "8fbdfc98",
   "metadata": {},
   "source": [
    "This is the ODE problem:"
   ]
  },
  {
   "cell_type": "code",
   "execution_count": 3,
   "id": "4068577c",
   "metadata": {},
   "outputs": [],
   "source": [
    "# Make a problem\n",
    "f, u0, (t0, t1), f_args = ivps.lotka_volterra(time_span=(0.0, 50.0))\n",
    "\n",
    "\n",
    "@jax.jit\n",
    "def vf(x, *, t, p):\n",
    "    return f(x, *p)\n",
    "\n",
    "\n",
    "ts = jnp.linspace(t0, t1, num=250)\n",
    "odeint_solution = jax.experimental.ode.odeint(\n",
    "    lambda u, t, *p: vf(u, t=t, p=p), u0, ts, *f_args, atol=1e-12, rtol=1e-12\n",
    ")\n",
    "\n",
    "\n",
    "problem = (vf, (u0,), t0, t1)\n",
    "problem_config = workprecision.ProblemConfig(\n",
    "    label=\"Lotka-Volterra (terminal-value simulation)\",\n",
    "    problem=problem,\n",
    "    error_fn=benchmark.relative_rmse(solution=odeint_solution[-1, :]),\n",
    "    solve_fn=benchmark.probdiffeq_terminal_values(),\n",
    ")"
   ]
  },
  {
   "cell_type": "code",
   "execution_count": 4,
   "id": "8b553131",
   "metadata": {},
   "outputs": [
    {
     "name": "stdout",
     "output_type": "stream",
     "text": [
      "ProblemConfig(label='Lotka-Volterra (terminal-value simulation)', problem=(<PjitFunction of <function vf at 0x7fd896948310>>, (Array([20., 20.], dtype=float64),), 0.0, 50.0), solve_fn=<function probdiffeq_terminal_values.<locals>.solve_fn at 0x7fd8341fcca0>, error_fn=<PjitFunction of <function relative_rmse.<locals>.error_fn at 0x7fd837acb5b0>>)\n"
     ]
    }
   ],
   "source": [
    "print(problem_config)"
   ]
  },
  {
   "cell_type": "code",
   "execution_count": 5,
   "id": "43e6bbb4",
   "metadata": {},
   "outputs": [
    {
     "data": {
      "image/png": "[encoded data removed]",
      "text/plain": [
       "<Figure size 600x120 with 1 Axes>"
      ]
     },
     "metadata": {},
     "output_type": "display_data"
    }
   ],
   "source": [
    "fig, ax = plt.subplots(figsize=(5, 1))\n",
    "ax.plot(ts, odeint_solution, marker=\"None\")\n",
    "plt.show()"
   ]
  },
  {
   "cell_type": "markdown",
   "id": "eff35579",
   "metadata": {},
   "source": [
    "## Internal solvers\n",
    "Let's start with finding the fastest probabilistic IVP solver.\n"
   ]
  },
  {
   "cell_type": "markdown",
   "id": "3f556d37",
   "metadata": {},
   "source": [
    "### Which mode of linearization?\n",
    "\n",
    "Should we linearize with a Taylor-approximation or by moment matching?"
   ]
  },
  {
   "cell_type": "code",
   "execution_count": 6,
   "id": "26b599d9",
   "metadata": {},
   "outputs": [],
   "source": [
    "def impl_to_method(impl, *, label):\n",
    "    solver = solvers.MLESolver(filters.Filter(impl))\n",
    "    return workprecision.MethodConfig(method=solver_to_method(solver), label=label)\n",
    "\n",
    "\n",
    "def solver_to_method(solver):\n",
    "    return {\n",
    "        \"parameters\": f_args,\n",
    "        \"solver\": solver,\n",
    "        \"control\": controls.ProportionalIntegral(),\n",
    "    }\n",
    "\n",
    "\n",
    "def cubature_to_slr1(cubature, *, ode_shape):\n",
    "    return recipes.DenseSLR1.from_params(\n",
    "        ode_shape=ode_shape,\n",
    "        cubature=cubature,\n",
    "    )\n",
    "\n",
    "\n",
    "# Different linearisation styles\n",
    "ode_shape = u0.shape\n",
    "ts1 = recipes.DenseTS1.from_params(ode_shape=ode_shape)\n",
    "sci = cubature.ThirdOrderSpherical.from_params(input_shape=ode_shape)\n",
    "ut = cubature.UnscentedTransform.from_params(input_shape=ode_shape, r=1.0)\n",
    "gh = cubature.GaussHermite.from_params(input_shape=ode_shape, degree=3)\n",
    "slr1_sci = cubature_to_slr1(sci, ode_shape=ode_shape)\n",
    "slr1_ut = cubature_to_slr1(ut, ode_shape=ode_shape)\n",
    "slr1_gh = cubature_to_slr1(gh, ode_shape=ode_shape)\n",
    "\n",
    "\n",
    "# Methods\n",
    "methods = [\n",
    "    impl_to_method(impl=ts1, label=\"TS1()\"),\n",
    "    impl_to_method(impl=slr1_sci, label=\"SLR1(SCI)\"),\n",
    "    impl_to_method(impl=slr1_ut, label=\"SLR1(UT)\"),\n",
    "    impl_to_method(impl=slr1_gh, label=\"SLR1(GH)\"),\n",
    "]"
   ]
  },
  {
   "cell_type": "code",
   "execution_count": 7,
   "id": "a67349a6",
   "metadata": {},
   "outputs": [
    {
     "data": {
      "application/vnd.jupyter.widget-view+json": {
       "model_id": "c5c63d43b58a481f8014cf3c2af0d230",
       "version_major": 2,
       "version_minor": 0
      },
      "text/plain": [
       "  0%|          | 0/4 [00:00<?, ?it/s]"
      ]
     },
     "metadata": {},
     "output_type": "display_data"
    },
    {
     "data": {
      "application/vnd.jupyter.widget-view+json": {
       "model_id": "",
       "version_major": 2,
       "version_minor": 0
      },
      "text/plain": [
       "  0%|          | 0/4 [00:00<?, ?it/s]"
      ]
     },
     "metadata": {},
     "output_type": "display_data"
    },
    {
     "data": {
      "application/vnd.jupyter.widget-view+json": {
       "model_id": "",
       "version_major": 2,
       "version_minor": 0
      },
      "text/plain": [
       "  0%|          | 0/4 [00:00<?, ?it/s]"
      ]
     },
     "metadata": {},
     "output_type": "display_data"
    },
    {
     "data": {
      "application/vnd.jupyter.widget-view+json": {
       "model_id": "",
       "version_major": 2,
       "version_minor": 0
      },
      "text/plain": [
       "  0%|          | 0/4 [00:00<?, ?it/s]"
      ]
     },
     "metadata": {},
     "output_type": "display_data"
    },
    {
     "data": {
      "application/vnd.jupyter.widget-view+json": {
       "model_id": "",
       "version_major": 2,
       "version_minor": 0
      },
      "text/plain": [
       "  0%|          | 0/4 [00:00<?, ?it/s]"
      ]
     },
     "metadata": {},
     "output_type": "display_data"
    }
   ],
   "source": [
    "tolerances = 0.1 ** jnp.arange(1.0, 9.0, step=2.0)\n",
    "results = workprecision.create(\n",
    "    problem=problem_config, methods=methods, tolerances=tolerances, repeat=5\n",
    ")"
   ]
  },
  {
   "cell_type": "code",
   "execution_count": 8,
   "id": "d38d631c",
   "metadata": {},
   "outputs": [
    {
     "name": "stdout",
     "output_type": "stream",
     "text": [
      "Next up: compute WP for all tolerances at once, upgrade the remaining benchmarks. Figure out how to squeeze other solvers into this framework.\n"
     ]
    },
    {
     "data": {
      "image/png": "[encoded data removed]",
      "text/plain": [
       "<Figure size 600x360 with 1 Axes>"
      ]
     },
     "metadata": {},
     "output_type": "display_data"
    },
    {
     "ename": "AssertionError",
     "evalue": "",
     "output_type": "error",
     "traceback": [
      "\u001b[0;31m---------------------------------------------------------------------------\u001b[0m",
      "\u001b[0;31mAssertionError\u001b[0m                            Traceback (most recent call last)",
      "Cell \u001b[0;32mIn[8], line 7\u001b[0m\n\u001b[1;32m      2\u001b[0m fig, ax \u001b[38;5;241m=\u001b[39m workprecision\u001b[38;5;241m.\u001b[39mplot(\n\u001b[1;32m      3\u001b[0m     results\u001b[38;5;241m=\u001b[39mresults, fig\u001b[38;5;241m=\u001b[39mfig, ax\u001b[38;5;241m=\u001b[39max, title\u001b[38;5;241m=\u001b[39mproblem_config\u001b[38;5;241m.\u001b[39mlabel\n\u001b[1;32m      4\u001b[0m )\n\u001b[1;32m      5\u001b[0m plt\u001b[38;5;241m.\u001b[39mshow()\n\u001b[0;32m----> 7\u001b[0m \u001b[38;5;28;01massert\u001b[39;00m \u001b[38;5;241m0\u001b[39m\n",
      "\u001b[0;31mAssertionError\u001b[0m: "
     ]
    }
   ],
   "source": [
    "fig, ax = plt.subplots(figsize=(5, 3))\n",
    "fig, ax = workprecision.plot(\n",
    "    results=results, fig=fig, ax=ax, title=problem_config.label\n",
    ")\n",
    "plt.show()\n",
    "\n",
    "assert 0"
   ]
  },
  {
   "cell_type": "markdown",
   "id": "3cefa556",
   "metadata": {},
   "source": [
    "The Taylor-series based method is more efficient. The cubature rule has little effect on the efficiency of the moment-matching solver."
   ]
  },
  {
   "cell_type": "markdown",
   "id": "46de7d05",
   "metadata": {},
   "source": [
    "### Which factorisation?\n",
    "\n",
    "What is the performance difference between an `IsoTaylorZerothOrder`, a `BlockDiagTaylorZerothOrder`, and a `TaylorZerothOrder`?"
   ]
  },
  {
   "cell_type": "code",
   "execution_count": null,
   "id": "80a655fb",
   "metadata": {},
   "outputs": [],
   "source": [
    "def solver(implementation):\n",
    "    return solver_to_solve(\n",
    "        solvers.MLESolver(strategy=filters.Filter(implementation=implementation))\n",
    "    )\n",
    "\n",
    "\n",
    "num_derivatives = 4\n",
    "iso_solver = solver(recipes.IsoTS0.from_params(num_derivatives=num_derivatives))\n",
    "batch_solver = solver(\n",
    "    recipes.BlockDiagTS0.from_params(\n",
    "        ode_shape=ode_shape, num_derivatives=num_derivatives\n",
    "    )\n",
    ")\n",
    "dense_solver = solver(\n",
    "    recipes.DenseTS0.from_params(ode_shape=ode_shape, num_derivatives=num_derivatives)\n",
    ")\n",
    "\n",
    "\n",
    "solve_fns = [\n",
    "    (iso_solver, f\"IsoTS0({num_derivatives})\"),\n",
    "    (batch_solver, f\"BlockDiagTS0({num_derivatives})\"),\n",
    "    (dense_solver, f\"DenseTS0({num_derivatives})\"),\n",
    "]"
   ]
  },
  {
   "cell_type": "code",
   "execution_count": null,
   "id": "095e6e88",
   "metadata": {},
   "outputs": [],
   "source": [
    "# %#%time\n",
    "\n",
    "results = workprecision_diagram(solve_fns=solve_fns)"
   ]
  },
  {
   "cell_type": "code",
   "execution_count": null,
   "id": "f7ac9d45",
   "metadata": {},
   "outputs": [],
   "source": [
    "fig, ax = plt.subplots(figsize=(5, 3))\n",
    "fig, ax = benchmark.workprecision_plot(\n",
    "    results=results, fig=fig, ax=ax, ode_name=ODE_NAME\n",
    ")\n",
    "plt.show()"
   ]
  },
  {
   "cell_type": "markdown",
   "id": "d06580e1",
   "metadata": {},
   "source": [
    "Unsurprisingly, the stronger the factorisation, the faster. The isotropic solver is the fastest, the batch-solver is second place, and the dense solver is the slowest (by far).\n",
    "The isotropic solver and the dense solver actually compute the same posterior (the errors are vertically aligned), but at different speeds."
   ]
  },
  {
   "cell_type": "markdown",
   "id": "ea14f2ee",
   "metadata": {},
   "source": [
    "### Dynamic solvers or MLE solvers?\n",
    "\n",
    "Are there differences between dynamic solvers and MLE solvers in terms of performance?\n",
    "Let's try a comparison for high-order and low-order methods."
   ]
  },
  {
   "cell_type": "code",
   "execution_count": null,
   "id": "ffd980e2",
   "metadata": {},
   "outputs": [],
   "source": [
    "def strategy_to_dynamic_solver(strategy):\n",
    "    return solver_to_solve(solvers.DynamicSolver(strategy=strategy))\n",
    "\n",
    "\n",
    "def strategy_to_mle_solver(strategy):\n",
    "    return solver_to_solve(solvers.MLESolver(strategy=strategy))\n",
    "\n",
    "\n",
    "filter_ts0_iso_low = filters.Filter(recipes.IsoTS0.from_params(num_derivatives=2))\n",
    "filter_ts0_iso_medium = filters.Filter(recipes.IsoTS0.from_params(num_derivatives=3))\n",
    "filter_ts0_iso_high = filters.Filter(recipes.IsoTS0.from_params(num_derivatives=5))\n",
    "\n",
    "filter_ts1_low = filters.Filter(\n",
    "    recipes.DenseTS1.from_params(ode_shape=ode_shape, num_derivatives=3)\n",
    ")\n",
    "filter_ts1_medium = filters.Filter(\n",
    "    recipes.DenseTS1.from_params(ode_shape=ode_shape, num_derivatives=5)\n",
    ")\n",
    "filter_ts1_high = filters.Filter(\n",
    "    recipes.DenseTS1.from_params(ode_shape=ode_shape, num_derivatives=8)\n",
    ")\n",
    "\n",
    "\n",
    "solve_fns = []\n",
    "for strat, label in [\n",
    "    (filter_ts0_iso_low, \"IsoTS0(2)\"),\n",
    "    (filter_ts0_iso_medium, \"IsoTS0(3)\"),\n",
    "    (filter_ts0_iso_high, \"IsoTS0(5)\"),\n",
    "    (filter_ts1_low, \"DenseTS1(3)\"),\n",
    "    (filter_ts1_medium, \"DenseTS1(5)\"),\n",
    "    (filter_ts1_high, \"DenseTS1(8)\"),\n",
    "]:\n",
    "    dynamic_solver = strategy_to_dynamic_solver(strat)\n",
    "    mle_solver = strategy_to_mle_solver(strat)\n",
    "    solve_fns.append(\n",
    "        [\n",
    "            (dynamic_solver, f\"DynamicSolver({label})\"),\n",
    "            (mle_solver, f\"MLESolver({label})\"),\n",
    "        ]\n",
    "    )"
   ]
  },
  {
   "cell_type": "code",
   "execution_count": null,
   "id": "9c786868",
   "metadata": {},
   "outputs": [],
   "source": [
    "# %#%time\n",
    "\n",
    "results_all = [workprecision_diagram(solve_fns=fns) for fns in solve_fns]"
   ]
  },
  {
   "cell_type": "code",
   "execution_count": null,
   "id": "1310a896",
   "metadata": {},
   "outputs": [],
   "source": [
    "fig, axes = plt.subplots(figsize=(8, 5), nrows=2, ncols=3, sharex=True, sharey=True)\n",
    "\n",
    "for ax, results in zip(axes.reshape((-1,)), results_all):\n",
    "    fig, ax = benchmark.workprecision_plot(\n",
    "        results=results, fig=fig, ax=ax, title=None, xlabel=None, ylabel=None\n",
    "    )\n",
    "\n",
    "for ax in axes:\n",
    "    ax[0].set_ylabel(\"Work [wall time, s]\")\n",
    "\n",
    "for ax, string in zip(axes.T, [\"Low order\", \"Medium order\", \"High order\"]):\n",
    "    ax[0].set_title(f\"{string} solvers [{ODE_NAME}]\")\n",
    "    ax[1].set_xlabel(\"Precision [RMSE, absolute]\")\n",
    "plt.show()"
   ]
  },
  {
   "cell_type": "markdown",
   "id": "5b305e06",
   "metadata": {},
   "source": [
    "For zeroth-order Taylor series, the choice between dynamic and non-dynamic solvers is fairly irrelevant (the non-dynamic solver seems to have a sliiiiiight edge over the dynamic solver, but that is not very apparent).\n",
    "For first-order Taylor series, non-dynamic calibration is better, but the difference is minimal for low-order methods and low precision."
   ]
  },
  {
   "cell_type": "markdown",
   "id": "99e84c08",
   "metadata": {},
   "source": [
    "### Should I use a filter or a smoother?"
   ]
  },
  {
   "cell_type": "code",
   "execution_count": null,
   "id": "2fbdcf3c",
   "metadata": {},
   "outputs": [],
   "source": [
    "impl = recipes.IsoTS0.from_params()\n",
    "filter_ = filters.Filter(impl)\n",
    "smoother = smoothers.Smoother(impl)\n",
    "fixpt_smoother = smoothers.FixedPointSmoother(impl)\n",
    "\n",
    "solve_fns = [\n",
    "    (strategy_to_mle_solver(filter_), \"Filter()\"),\n",
    "    (strategy_to_mle_solver(smoother), \"Smoother()\"),\n",
    "    (strategy_to_mle_solver(fixpt_smoother), \"FixedPointSmoother()\"),\n",
    "]"
   ]
  },
  {
   "cell_type": "code",
   "execution_count": null,
   "id": "6a9d2a09",
   "metadata": {},
   "outputs": [],
   "source": [
    "# %#%time\n",
    "\n",
    "results = workprecision_diagram(solve_fns=solve_fns)"
   ]
  },
  {
   "cell_type": "code",
   "execution_count": null,
   "id": "088a3f7c",
   "metadata": {},
   "outputs": [],
   "source": [
    "fig, ax = plt.subplots(figsize=(5, 3))\n",
    "fig, ax = benchmark.workprecision_plot(\n",
    "    results=results, fig=fig, ax=ax, ode_name=ODE_NAME\n",
    ")\n",
    "plt.show()"
   ]
  },
  {
   "cell_type": "markdown",
   "id": "8139ab0f",
   "metadata": {},
   "source": [
    "The filter is the fastest, the smoother is second, and the fixed-point smoother is the slowest.\n",
    "But this is unsurprising, because the smoother and the fixed-point smoother compute extra quantities that the filter ignores.\n",
    "These extra quantities make the smoothing solutions a valid posterior distribution at all time-points, whereas the filtering distribution makes sense mostly at the terminal value.\n",
    "\n",
    "But when the quantitity of interest is the terminal value, filters are the go-to strategy.\n",
    "\n"
   ]
  },
  {
   "cell_type": "markdown",
   "id": "c59b1660",
   "metadata": {},
   "source": [
    "### Fastest methods\n",
    "\n",
    "So what are the fastest solvers?\n",
    "We know that filters are better than smoothers for terminal-value simulation.\n",
    "We also know that isotropic, zeroth-order approximations are the fastest zeroth-order methods,\n",
    "and that Taylor-series based linearisations outperform moment matching.\n",
    "We know that the dynamic solver is superior over the non-dynamic solver for low order methods with first-order linearisation, and that the is preferrable in the other setups (sometimes only incrementally).\n",
    "\n",
    "Let's compare the winning solvers to find the best one."
   ]
  },
  {
   "cell_type": "code",
   "execution_count": null,
   "id": "953111c6",
   "metadata": {},
   "outputs": [],
   "source": [
    "def impl_to_dynamic_solver_filter(impl):\n",
    "    return strategy_to_dynamic_solver(filters.Filter(impl))\n",
    "\n",
    "\n",
    "def impl_to_mle_solver_filter(impl):\n",
    "    return strategy_to_mle_solver(filters.Filter(impl))\n",
    "\n",
    "\n",
    "num_low, num_medium, num_high = 3, 5, 8\n",
    "\n",
    "ts0_iso_low = recipes.IsoTS0.from_params(num_derivatives=num_low)\n",
    "ts0_iso_medium = recipes.IsoTS0.from_params(num_derivatives=num_medium)\n",
    "\n",
    "ts1_low = recipes.DenseTS1.from_params(ode_shape=ode_shape, num_derivatives=num_low)\n",
    "ts1_medium = recipes.DenseTS1.from_params(\n",
    "    ode_shape=ode_shape, num_derivatives=num_medium\n",
    ")\n",
    "ts1_high = recipes.DenseTS1.from_params(ode_shape=ode_shape, num_derivatives=num_high)\n",
    "\n",
    "\n",
    "slr1_high = recipes.DenseSLR1.from_params(ode_shape=ode_shape, num_derivatives=num_high)\n",
    "\n",
    "solve_fns = [\n",
    "    (impl_to_mle_solver_filter(ts0_iso_low), f\"IsoTS0({num_low}), MLE\"),\n",
    "    (impl_to_mle_solver_filter(ts0_iso_medium), f\"IsoTS0({num_medium}), MLE\"),\n",
    "    (impl_to_dynamic_solver_filter(ts1_low), f\"DenseTS1({num_low}), Dynamic\"),\n",
    "    (impl_to_mle_solver_filter(ts1_medium), f\"DenseTS1({num_medium}), MLE\"),\n",
    "    (impl_to_mle_solver_filter(ts1_high), f\"DenseTS1({num_high}), MLE\"),\n",
    "    (impl_to_mle_solver_filter(slr1_high), f\"DenseSLR1({num_high}), MLE\"),\n",
    "]"
   ]
  },
  {
   "cell_type": "code",
   "execution_count": null,
   "id": "340fc41c",
   "metadata": {},
   "outputs": [],
   "source": [
    "# %#%time\n",
    "\n",
    "results = workprecision_diagram(solve_fns=solve_fns)"
   ]
  },
  {
   "cell_type": "code",
   "execution_count": null,
   "id": "bde1a6e0",
   "metadata": {},
   "outputs": [],
   "source": [
    "fig, ax = plt.subplots(figsize=(5, 3))\n",
    "fig, ax = benchmark.workprecision_plot(\n",
    "    results=results, fig=fig, ax=ax, ode_name=ODE_NAME\n",
    ")\n",
    "\n",
    "plt.show()"
   ]
  },
  {
   "cell_type": "markdown",
   "id": "b937e733",
   "metadata": {},
   "source": [
    "## Conclusion\n",
    "\n",
    "If these results show one thing, then the fact that it is worth building a specialised ODE solver\n",
    "for simulate_terminal_values(). The smoothing-based solvers compute extra factors that are just not needed for terminal-value simulation, and the extra factors turn out to be quite expensive. Every smoother was slower than its filtering-equivalent.\n",
    "\n",
    "We can observe more:\n",
    "* Dynamic calibration seems to perform at most as good as non-dynamic calibration. (Except for low order, low-precision EKF1, where the dynamic calibration seems to help. But even with the dynamic calibration is the low-order EKF1 one of the slowest solvers.)\n",
    "* Low precision is best achieved with an isotropic EKF0(3). High precision is best achieved with an EKF1(8). The middle ground is better covered by an isotropic EKF0(5) than an EKF1(5).\n",
    "* The cubature filters are more expensive than the extended filters (because cubature-linearisation costs more than Taylor-linearisation)"
   ]
  }
 ],
 "metadata": {
  "jupytext": {
   "formats": "ipynb,md"
  },
  "kernelspec": {
   "display_name": "Python 3 (ipykernel)",
   "language": "python",
   "name": "python3"
  },
  "language_info": {
   "codemirror_mode": {
    "name": "ipython",
    "version": 3
   },
   "file_extension": ".py",
   "mimetype": "text/x-python",
   "name": "python",
   "nbconvert_exporter": "python",
   "pygments_lexer": "ipython3",
   "version": "3.10.6"
  }
 },
 "nbformat": 4,
 "nbformat_minor": 5
}
