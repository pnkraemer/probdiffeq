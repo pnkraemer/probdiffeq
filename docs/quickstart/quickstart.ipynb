{
 "cells": [
  {
   "cell_type": "markdown",
   "id": "21ff262e",
   "metadata": {},
   "source": [
    "# Quickstart"
   ]
  },
  {
   "cell_type": "code",
   "execution_count": 1,
   "id": "df4dedf2",
   "metadata": {
    "execution": {
     "iopub.execute_input": "2023-02-22T16:29:44.634853Z",
     "iopub.status.busy": "2023-02-22T16:29:44.634041Z",
     "iopub.status.idle": "2023-02-22T16:29:47.270093Z",
     "shell.execute_reply": "2023-02-22T16:29:47.269401Z"
    }
   },
   "outputs": [
    {
     "name": "stderr",
     "output_type": "stream",
     "text": [
      "No GPU/TPU found, falling back to CPU. (Set TF_CPP_MIN_LOG_LEVEL=0 and rerun for more info.)\n"
     ]
    },
    {
     "name": "stdout",
     "output_type": "stream",
     "text": [
      "u = [[0.1       ]\n",
      " [0.10100442]\n",
      " [0.10784882]\n",
      " [0.11269414]\n",
      " [0.11969392]\n",
      " [0.12886862]\n",
      " [0.1411325 ]\n",
      " [0.15482391]]\n"
     ]
    }
   ],
   "source": [
    "import jax\n",
    "import jax.numpy as jnp\n",
    "\n",
    "from probdiffeq import solution_routines, solvers\n",
    "from probdiffeq.implementations import recipes\n",
    "from probdiffeq.strategies import smoothers\n",
    "\n",
    "# Make a problem\n",
    "\n",
    "\n",
    "@jax.jit\n",
    "def vector_field(y, *, t, p):\n",
    "    return p * y * (1 - y)\n",
    "\n",
    "\n",
    "u0 = jnp.asarray([0.1])\n",
    "t0, t1 = 0.0, 1.0\n",
    "\n",
    "# Make a solver:\n",
    "#     DenseTS1: dense covariance structure with first-order Taylor linearisation\n",
    "#     Smoother: Compute a global estimate of the solution\n",
    "#     MLESolver: Calibrate unknown parameters with (quasi-)maximum-likelihood estimation\n",
    "implementation = recipes.DenseTS1.from_params(ode_shape=(1,))\n",
    "strategy = smoothers.Smoother(implementation)\n",
    "solver = solvers.MLESolver(strategy)\n",
    "\n",
    "\n",
    "# Solve\n",
    "solution = solution_routines.solve_with_python_while_loop(\n",
    "    vector_field, initial_values=(u0,), t0=t0, t1=t1, solver=solver, parameters=0.5\n",
    ")\n",
    "\n",
    "\n",
    "# Look at the solution\n",
    "print(\"u =\", solution.u)"
   ]
  }
 ],
 "metadata": {
  "jupytext": {
   "cell_metadata_filter": "-all",
   "formats": "ipynb,md",
   "main_language": "python",
   "notebook_metadata_filter": "-all"
  },
  "kernelspec": {
   "display_name": "Python 3 (ipykernel)",
   "language": "python",
   "name": "python3"
  },
  "language_info": {
   "codemirror_mode": {
    "name": "ipython",
    "version": 3
   },
   "file_extension": ".py",
   "mimetype": "text/x-python",
   "name": "python",
   "nbconvert_exporter": "python",
   "pygments_lexer": "ipython3",
   "version": "3.10.6"
  }
 },
 "nbformat": 4,
 "nbformat_minor": 5
}
