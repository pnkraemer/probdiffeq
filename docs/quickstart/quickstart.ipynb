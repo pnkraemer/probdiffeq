{
 "cells": [
  {
   "cell_type": "markdown",
   "id": "21ff262e",
   "metadata": {},
   "source": [
    "# Quickstart"
   ]
  },
  {
   "cell_type": "code",
   "execution_count": 1,
   "id": "df4dedf2",
   "metadata": {
    "execution": {
     "iopub.execute_input": "2023-02-22T12:55:04.509613Z",
     "iopub.status.busy": "2023-02-22T12:55:04.509144Z",
     "iopub.status.idle": "2023-02-22T12:55:07.693683Z",
     "shell.execute_reply": "2023-02-22T12:55:07.692932Z"
    }
   },
   "outputs": [
    {
     "name": "stderr",
     "output_type": "stream",
     "text": [
      "No GPU/TPU found, falling back to CPU. (Set TF_CPP_MIN_LOG_LEVEL=0 and rerun for more info.)\n"
     ]
    },
    {
     "name": "stdout",
     "output_type": "stream",
     "text": [
      "u = [[ 2.          0.        ]\n",
      " [ 1.9998995  -0.01970267]\n",
      " [ 1.996991   -0.10371943]\n",
      " [ 1.9923958  -0.15942703]\n",
      " [ 1.9813555  -0.23697579]\n",
      " [ 1.9659853  -0.30421633]\n",
      " [ 1.9352115  -0.39004046]\n",
      " [ 1.8959657  -0.46138847]\n",
      " [ 1.8444154  -0.52729595]\n",
      " [ 1.7764692  -0.5920699 ]\n",
      " [ 1.6990371  -0.65193135]\n",
      " [ 1.601143   -0.7190028 ]\n",
      " [ 1.4841111  -0.7960752 ]\n",
      " [ 1.3353077  -0.89735234]\n",
      " [ 1.1495816  -1.0357369 ]\n",
      " [ 0.9065898  -1.2419406 ]\n",
      " [ 0.5738123  -1.5674074 ]\n",
      " [ 0.29057997 -1.868016  ]\n",
      " [ 0.09225178 -2.077857  ]\n",
      " [-0.07523001 -2.2456775 ]\n",
      " [-0.24440905 -2.398559  ]\n",
      " [-0.46210307 -2.5573359 ]\n",
      " [-0.74824435 -2.6708577 ]\n",
      " [-1.0058506  -2.6442232 ]\n",
      " [-1.2362945  -2.483597  ]\n",
      " [-1.444674   -2.1977434 ]\n",
      " [-1.6406735  -1.7745979 ]\n",
      " [-1.7887862  -1.3226388 ]\n",
      " [-1.8857775  -0.9335005 ]\n",
      " [-1.9525353  -0.58415985]\n",
      " [-1.9964358  -0.24284521]\n",
      " [-2.007788   -0.04821046]\n",
      " [-2.0057542   0.09670981]\n",
      " [-1.9946811   0.20731592]\n",
      " [-1.9718565   0.31295422]\n",
      " [-1.9345137   0.40881014]\n",
      " [-1.8730112   0.503069  ]\n",
      " [-1.8030826   0.5748235 ]\n",
      " [-1.7208984   0.6400999 ]\n",
      " [-1.622094    0.707931  ]\n",
      " [-1.5016901   0.7865201 ]\n",
      " [-1.3524415   0.8868418 ]\n",
      " [-1.1637473   1.0257751 ]\n",
      " [-0.9203146   1.230479  ]\n",
      " [-0.5874594   1.554081  ]\n",
      " [-0.30112445  1.8574885 ]\n",
      " [-0.10150684  2.0690172 ]\n",
      " [ 0.06615429  2.2376938 ]\n",
      " [ 0.2369662   2.39306   ]\n",
      " [ 0.4529647   2.5525205 ]\n",
      " [ 0.7355983   2.6694849 ]\n",
      " [ 0.9955682   2.6489372 ]\n",
      " [ 1.2271882   2.4936805 ]\n",
      " [ 1.4365586   2.2126362 ]\n",
      " [ 1.6325864   1.7966574 ]\n",
      " [ 1.7841465   1.3397673 ]\n",
      " [ 1.8321304   1.1620642 ]]\n"
     ]
    }
   ],
   "source": [
    "import jax\n",
    "from diffeqzoo import backend, ivps\n",
    "\n",
    "from probdiffeq import solution_routines, solvers\n",
    "from probdiffeq.implementations import recipes\n",
    "from probdiffeq.strategies import smoothers\n",
    "\n",
    "if not backend.has_been_selected:\n",
    "    backend.select(\"jax\")  # ivp examples in jax\n",
    "\n",
    "# Make a problem\n",
    "f, u0, (t0, t1), f_args = ivps.van_der_pol_first_order(stiffness_constant=1.0)\n",
    "\n",
    "\n",
    "@jax.jit\n",
    "def vector_field(y, *, t, p):\n",
    "    return f(y, *p)\n",
    "\n",
    "\n",
    "# Make a solver:\n",
    "#     DenseTS1: dense covariance structure with first-order Taylor linearisation\n",
    "#     Smoother: Compute a global estimate of the solution\n",
    "#     MLESolver: Calibrate unknown parameters with (quasi-)maximum-likelihood estimation\n",
    "implementation = recipes.DenseTS1.from_params(ode_shape=(2,))\n",
    "strategy = smoothers.Smoother(implementation)\n",
    "solver = solvers.MLESolver(strategy)\n",
    "\n",
    "\n",
    "# Solve\n",
    "solution = solution_routines.solve_with_python_while_loop(\n",
    "    vector_field, initial_values=(u0,), t0=t0, t1=t1, solver=solver, parameters=f_args\n",
    ")\n",
    "\n",
    "\n",
    "# Look at the solution\n",
    "print(\"u =\", solution.u)"
   ]
  }
 ],
 "metadata": {
  "jupytext": {
   "cell_metadata_filter": "-all",
   "formats": "ipynb,md",
   "main_language": "python",
   "notebook_metadata_filter": "-all"
  },
  "kernelspec": {
   "display_name": "Python 3 (ipykernel)",
   "language": "python",
   "name": "python3"
  },
  "language_info": {
   "codemirror_mode": {
    "name": "ipython",
    "version": 3
   },
   "file_extension": ".py",
   "mimetype": "text/x-python",
   "name": "python",
   "nbconvert_exporter": "python",
   "pygments_lexer": "ipython3",
   "version": "3.10.6"
  }
 },
 "nbformat": 4,
 "nbformat_minor": 5
}
