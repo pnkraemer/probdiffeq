{
 "cells": [
  {
   "cell_type": "markdown",
   "id": "21ff262e",
   "metadata": {},
   "source": [
    "# An easy example"
   ]
  },
  {
   "cell_type": "code",
   "execution_count": 2,
   "id": "e35d8438-49be-4f34-9f20-a01e032a12dc",
   "metadata": {},
   "outputs": [
    {
     "ename": "ModuleNotFoundError",
     "evalue": "No module named 'probdiffeq.ivpsolvers.statespace'",
     "output_type": "error",
     "traceback": [
      "\u001b[0;31m---------------------------------------------------------------------------\u001b[0m",
      "\u001b[0;31mModuleNotFoundError\u001b[0m                       Traceback (most recent call last)",
      "Cell \u001b[0;32mIn[2], line 7\u001b[0m\n\u001b[1;32m      5\u001b[0m \u001b[38;5;28;01mfrom\u001b[39;00m \u001b[38;5;21;01mprobdiffeq\u001b[39;00m\u001b[38;5;21;01m.\u001b[39;00m\u001b[38;5;21;01mimpl\u001b[39;00m \u001b[38;5;28;01mimport\u001b[39;00m impl\n\u001b[1;32m      6\u001b[0m \u001b[38;5;28;01mfrom\u001b[39;00m \u001b[38;5;21;01mprobdiffeq\u001b[39;00m\u001b[38;5;21;01m.\u001b[39;00m\u001b[38;5;21;01mivpsolvers\u001b[39;00m \u001b[38;5;28;01mimport\u001b[39;00m uncalibrated\n\u001b[0;32m----> 7\u001b[0m \u001b[38;5;28;01mfrom\u001b[39;00m \u001b[38;5;21;01mprobdiffeq\u001b[39;00m\u001b[38;5;21;01m.\u001b[39;00m\u001b[38;5;21;01mivpsolvers\u001b[39;00m\u001b[38;5;21;01m.\u001b[39;00m\u001b[38;5;21;01mstatespace\u001b[39;00m \u001b[38;5;28;01mimport\u001b[39;00m correction, extrapolation\n\u001b[1;32m      8\u001b[0m \u001b[38;5;28;01mfrom\u001b[39;00m \u001b[38;5;21;01mprobdiffeq\u001b[39;00m\u001b[38;5;21;01m.\u001b[39;00m\u001b[38;5;21;01mivpsolvers\u001b[39;00m\u001b[38;5;21;01m.\u001b[39;00m\u001b[38;5;21;01mstrategies\u001b[39;00m \u001b[38;5;28;01mimport\u001b[39;00m smoothers\n\u001b[1;32m     10\u001b[0m \u001b[38;5;28;01mfrom\u001b[39;00m \u001b[38;5;21;01mjax\u001b[39;00m\u001b[38;5;21;01m.\u001b[39;00m\u001b[38;5;21;01mconfig\u001b[39;00m \u001b[38;5;28;01mimport\u001b[39;00m config\n",
      "\u001b[0;31mModuleNotFoundError\u001b[0m: No module named 'probdiffeq.ivpsolvers.statespace'"
     ]
    }
   ],
   "source": [
    "import jax\n",
    "import jax.numpy as jnp\n",
    "from jax.config import config\n",
    "\n",
    "from probdiffeq import ivpsolve\n",
    "from probdiffeq.impl import impl\n",
    "from probdiffeq.solvers import uncalibrated\n",
    "from probdiffeq.solvers.statespace import correction, extrapolation\n",
    "from probdiffeq.solvers.strategies import smoothers\n",
    "\n",
    "config.update(\"jax_platform_name\", \"cpu\")"
   ]
  },
  {
   "cell_type": "markdown",
   "id": "46c108d3-d8aa-40ed-8675-c321b6389893",
   "metadata": {},
   "source": [
    "Create a problem:"
   ]
  },
  {
   "cell_type": "code",
   "execution_count": null,
   "id": "31a8ff8d-805c-4e28-8c9c-dad8b8f702ba",
   "metadata": {},
   "outputs": [],
   "source": [
    "@jax.jit\n",
    "def vf(y, *, t, p):\n",
    "    return p * y * (1 - y)\n",
    "\n",
    "\n",
    "u0 = jnp.asarray([0.1])\n",
    "t0, t1 = 0.0, 1.0"
   ]
  },
  {
   "cell_type": "markdown",
   "id": "1943bd33-aa52-4c69-a215-ba5383921299",
   "metadata": {},
   "source": [
    "Create a solver.\n",
    "\n",
    "\n",
    "ProbDiffEq consists of three levels:\n",
    "\n",
    "**Low:** Implementations of random-variable-arithmetic (marginalisation, conditioning, etc.)\n",
    "\n",
    "**Medium:** Probabilistic IVP solver components (this is what you're here for.)\n",
    "\n",
    "**High:** ODE-solving routines.\n",
    "\n",
    "\n",
    "There are several random-variable implementations which model different correlations between variables.\n",
    "Since the implementations power almost everything, we choose one (and only one) of them and call it the \"impl(ementation)\".\n"
   ]
  },
  {
   "cell_type": "code",
   "execution_count": null,
   "id": "679df9b8-31fb-45e7-aab0-084530de973b",
   "metadata": {},
   "outputs": [],
   "source": [
    "impl.select(\"isotropic\", ode_shape=(1,))"
   ]
  },
  {
   "cell_type": "markdown",
   "id": "290cbe06-64a9-49c4-a687-4ba84bb18767",
   "metadata": {},
   "source": [
    "Configuring a probabilistic IVP solver amounts to choosing an extrapolation model and a correction scheme, putting it together as a filter or smoother, and wrapping everything into a solver. "
   ]
  },
  {
   "cell_type": "code",
   "execution_count": null,
   "id": "2b355d78-35c1-4c83-9bd8-b7308b8b2dc0",
   "metadata": {},
   "outputs": [],
   "source": [
    "ibm = extrapolation.ibm_adaptive(num_derivatives=4)\n",
    "ts0 = correction.taylor_order_zero(ode_order=1)\n",
    "\n",
    "strategy = smoothers.smoother_adaptive(ibm, ts0)\n",
    "solver = uncalibrated.solver(strategy)"
   ]
  },
  {
   "cell_type": "markdown",
   "id": "38abc67e-36a1-42a5-81ef-ca30f30d7fee",
   "metadata": {},
   "source": [
    "The rest is standard ODE-solver machinery."
   ]
  },
  {
   "cell_type": "code",
   "execution_count": null,
   "id": "df4dedf2",
   "metadata": {
    "tags": []
   },
   "outputs": [],
   "source": [
    "solution = ivpsolve.solve_with_python_while_loop(\n",
    "    vf,\n",
    "    initial_values=(u0,),\n",
    "    t0=t0,\n",
    "    t1=t1,\n",
    "    solver=solver,\n",
    "    output_scale=1.0,\n",
    "    parameters=0.5,\n",
    ")\n",
    "\n",
    "\n",
    "# Look at the solution\n",
    "print(\"u =\", solution.u)"
   ]
  },
  {
   "cell_type": "code",
   "execution_count": null,
   "id": "12b5b17c-b30f-4471-ba1b-b0c4df743b21",
   "metadata": {},
   "outputs": [],
   "source": []
  }
 ],
 "metadata": {
  "jupytext": {
   "cell_metadata_filter": "-all",
   "formats": "ipynb,md",
   "main_language": "python",
   "notebook_metadata_filter": "-all"
  },
  "kernelspec": {
   "display_name": "Python 3 (ipykernel)",
   "language": "python",
   "name": "python3"
  },
  "language_info": {
   "codemirror_mode": {
    "name": "ipython",
    "version": 3
   },
   "file_extension": ".py",
   "mimetype": "text/x-python",
   "name": "python",
   "nbconvert_exporter": "python",
   "pygments_lexer": "ipython3",
   "version": "3.10.12"
  }
 },
 "nbformat": 4,
 "nbformat_minor": 5
}
