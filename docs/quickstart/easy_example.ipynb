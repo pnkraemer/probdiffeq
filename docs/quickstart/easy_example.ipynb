{
 "cells": [
  {
   "cell_type": "markdown",
   "id": "21ff262e",
   "metadata": {},
   "source": [
    "# An easy example"
   ]
  },
  {
   "cell_type": "code",
   "execution_count": 1,
   "id": "df4dedf2",
   "metadata": {
    "execution": {
     "iopub.execute_input": "2023-04-13T05:43:19.343682Z",
     "iopub.status.busy": "2023-04-13T05:43:19.342903Z",
     "iopub.status.idle": "2023-04-13T05:43:23.125898Z",
     "shell.execute_reply": "2023-04-13T05:43:23.125163Z"
    },
    "tags": []
   },
   "outputs": [
    {
     "name": "stderr",
     "output_type": "stream",
     "text": [
      "No GPU/TPU found, falling back to CPU. (Set TF_CPP_MIN_LOG_LEVEL=0 and rerun for more info.)\n"
     ]
    },
    {
     "name": "stdout",
     "output_type": "stream",
     "text": [
      "u = [[0.10000001]\n",
      " [0.10100419]\n",
      " [0.1077576 ]\n",
      " [0.11254042]\n",
      " [0.11942382]\n",
      " [0.1284237 ]\n",
      " [0.14042065]\n",
      " [0.15482274]]\n"
     ]
    }
   ],
   "source": [
    "import jax\n",
    "import jax.numpy as jnp\n",
    "\n",
    "from probdiffeq import ivpsolve, ivpsolvers\n",
    "from probdiffeq.statespace import recipes\n",
    "from probdiffeq.strategies import smoothers\n",
    "\n",
    "# Make a problem\n",
    "\n",
    "\n",
    "@jax.jit\n",
    "def vector_field(y, *, t, p):\n",
    "    return p * y * (1 - y)\n",
    "\n",
    "\n",
    "u0 = jnp.asarray([0.1])\n",
    "t0, t1 = 0.0, 1.0\n",
    "\n",
    "# Make a solver:\n",
    "#     DenseTS1: dense covariance structure with first-order Taylor linearisation\n",
    "#     Smoother: Compute a global estimate of the solution\n",
    "#     MLESolver: Calibrate unknown parameters with (quasi-)maximum-likelihood estimation\n",
    "implementation = recipes.ts1_dense(ode_shape=(1,))\n",
    "strategy = smoothers.Smoother(*implementation)\n",
    "solver = ivpsolvers.MLESolver(strategy)\n",
    "\n",
    "\n",
    "# Solve\n",
    "solution = ivpsolve.solve_with_python_while_loop(\n",
    "    vector_field, initial_values=(u0,), t0=t0, t1=t1, solver=solver, parameters=0.5\n",
    ")\n",
    "\n",
    "\n",
    "# Look at the solution\n",
    "print(\"u =\", solution.u)"
   ]
  }
 ],
 "metadata": {
  "jupytext": {
   "cell_metadata_filter": "-all",
   "formats": "ipynb,md",
   "main_language": "python",
   "notebook_metadata_filter": "-all"
  },
  "kernelspec": {
   "display_name": "Python 3 (ipykernel)",
   "language": "python",
   "name": "python3"
  },
  "language_info": {
   "codemirror_mode": {
    "name": "ipython",
    "version": 3
   },
   "file_extension": ".py",
   "mimetype": "text/x-python",
   "name": "python",
   "nbconvert_exporter": "python",
   "pygments_lexer": "ipython3",
   "version": "3.10.6"
  }
 },
 "nbformat": 4,
 "nbformat_minor": 5
}
