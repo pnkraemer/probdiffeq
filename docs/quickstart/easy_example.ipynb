{
 "cells": [
  {
   "cell_type": "markdown",
   "id": "21ff262e",
   "metadata": {},
   "source": [
    "# An easy example"
   ]
  },
  {
   "cell_type": "code",
   "execution_count": 1,
   "id": "df4dedf2",
   "metadata": {
    "execution": {
     "iopub.execute_input": "2023-08-10T07:13:56.867229Z",
     "iopub.status.busy": "2023-08-10T07:13:56.866450Z",
     "iopub.status.idle": "2023-08-10T07:13:59.665105Z",
     "shell.execute_reply": "2023-08-10T07:13:59.664514Z"
    },
    "tags": []
   },
   "outputs": [
    {
     "name": "stderr",
     "output_type": "stream",
     "text": [
      "No GPU/TPU found, falling back to CPU. (Set TF_CPP_MIN_LOG_LEVEL=0 and rerun for more info.)\n"
     ]
    },
    {
     "name": "stdout",
     "output_type": "stream",
     "text": [
      "Next up: run all tests with all factorisations (see diffeqzoo). Change recipes to pure correction model constructors. fix remaining tests.\n"
     ]
    },
    {
     "name": "stdout",
     "output_type": "stream",
     "text": [
      "u = [[0.10000001]\n",
      " [0.10100419]\n",
      " [0.10777153]\n",
      " [0.11256519]\n",
      " [0.11953426]\n",
      " [0.12890552]\n",
      " [0.14229701]\n",
      " [0.15482806]]\n"
     ]
    }
   ],
   "source": [
    "import jax\n",
    "import jax.numpy as jnp\n",
    "\n",
    "from probdiffeq import ivpsolve\n",
    "from probdiffeq.impl import impl\n",
    "from probdiffeq.ivpsolvers import uncalibrated\n",
    "from probdiffeq.statespace import correction, extrapolation\n",
    "from probdiffeq.strategies import smoothers\n",
    "\n",
    "# Make a problem\n",
    "\n",
    "\n",
    "@jax.jit\n",
    "def vf(y, *, t, p):\n",
    "    return p * y * (1 - y)\n",
    "\n",
    "\n",
    "u0 = jnp.asarray([0.1])\n",
    "t0, t1 = 0.0, 1.0\n",
    "\n",
    "# Make a solver:\n",
    "impl.select(\"isotropic\", ode_shape=(1,))\n",
    "ibm = extrapolation.ibm_adaptive(num_derivatives=4)\n",
    "ts0 = correction.taylor_order_zero(ode_order=1)\n",
    "strategy = smoothers.smoother_adaptive(ibm, ts0)\n",
    "solver = uncalibrated.solver(strategy)\n",
    "\n",
    "\n",
    "# Solve\n",
    "solution = ivpsolve.solve_with_python_while_loop(\n",
    "    vf,\n",
    "    initial_values=(u0,),\n",
    "    t0=t0,\n",
    "    t1=t1,\n",
    "    solver=solver,\n",
    "    output_scale=1.0,\n",
    "    parameters=0.5,\n",
    ")\n",
    "\n",
    "\n",
    "# Look at the solution\n",
    "print(\"u =\", solution.u)"
   ]
  }
 ],
 "metadata": {
  "jupytext": {
   "cell_metadata_filter": "-all",
   "formats": "ipynb,md",
   "main_language": "python",
   "notebook_metadata_filter": "-all"
  },
  "kernelspec": {
   "display_name": "Python 3 (ipykernel)",
   "language": "python",
   "name": "python3"
  },
  "language_info": {
   "codemirror_mode": {
    "name": "ipython",
    "version": 3
   },
   "file_extension": ".py",
   "mimetype": "text/x-python",
   "name": "python",
   "nbconvert_exporter": "python",
   "pygments_lexer": "ipython3",
   "version": "3.10.12"
  }
 },
 "nbformat": 4,
 "nbformat_minor": 5
}
