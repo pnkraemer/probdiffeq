{
 "cells": [
  {
   "cell_type": "markdown",
   "id": "b000d672",
   "metadata": {},
   "source": [
    "# Posterior uncertainties"
   ]
  },
  {
   "cell_type": "code",
   "execution_count": 1,
   "id": "c6bf2f41",
   "metadata": {
    "tags": []
   },
   "outputs": [],
   "source": [
    "import jax\n",
    "import jax.numpy as jnp\n",
    "import matplotlib.pyplot as plt\n",
    "from diffeqzoo import backend, ivps\n",
    "from jax.config import config\n",
    "\n",
    "from probdiffeq import ivpsolve\n",
    "from probdiffeq.doc_util import notebook\n",
    "from probdiffeq.ivpsolvers import calibrated\n",
    "from probdiffeq.statespace import recipes\n",
    "from probdiffeq.strategies import filters, smoothers"
   ]
  },
  {
   "cell_type": "code",
   "execution_count": 2,
   "id": "53d5e593",
   "metadata": {
    "tags": []
   },
   "outputs": [],
   "source": [
    "plt.rcParams.update(notebook.plot_config())\n",
    "\n",
    "if not backend.has_been_selected:\n",
    "    backend.select(\"jax\")  # ivp examples in jax\n",
    "\n",
    "config.update(\"jax_enable_x64\", True)\n",
    "config.update(\"jax_platform_name\", \"cpu\")"
   ]
  },
  {
   "cell_type": "markdown",
   "id": "4620d31d",
   "metadata": {},
   "source": [
    "Set an example problem.\n",
    "\n",
    "Solve the problem on a low resolution and short time-span to achieve large uncertainty."
   ]
  },
  {
   "cell_type": "code",
   "execution_count": 3,
   "id": "8be7bd67",
   "metadata": {
    "tags": []
   },
   "outputs": [],
   "source": [
    "f, u0, (t0, t1), f_args = ivps.lotka_volterra()\n",
    "\n",
    "\n",
    "@jax.jit\n",
    "def vf(*ys, t, p):\n",
    "    return f(*ys, *p)"
   ]
  },
  {
   "cell_type": "markdown",
   "id": "e6291074",
   "metadata": {},
   "source": [
    "## Filter"
   ]
  },
  {
   "cell_type": "code",
   "execution_count": 4,
   "id": "7909db81",
   "metadata": {
    "tags": []
   },
   "outputs": [],
   "source": [
    "ts0 = calibrated.mle(*filters.filter(*recipes.ts0_iso()))\n",
    "ts = jnp.linspace(t0, t0 + 2.0, endpoint=True, num=500)"
   ]
  },
  {
   "cell_type": "code",
   "execution_count": 5,
   "id": "978e3d1e",
   "metadata": {
    "tags": []
   },
   "outputs": [],
   "source": [
    "# %#%time\n",
    "\n",
    "sol = ivpsolve.solve_and_save_at(\n",
    "    vf,\n",
    "    initial_values=(u0,),\n",
    "    save_at=ts,\n",
    "    solver=ts0,\n",
    "    rtol=1e-2,\n",
    "    atol=1e-2,\n",
    "    parameters=f_args,\n",
    ")"
   ]
  },
  {
   "cell_type": "markdown",
   "id": "d1b07998",
   "metadata": {},
   "source": [
    "Plot the solution"
   ]
  },
  {
   "cell_type": "code",
   "execution_count": null,
   "id": "78c9a1ae",
   "metadata": {
    "tags": []
   },
   "outputs": [],
   "source": [
    "_, num_derivatives, _ = sol.marginals.mean.shape\n",
    "\n",
    "\n",
    "fig, axes_all = plt.subplots(\n",
    "    nrows=2,\n",
    "    ncols=num_derivatives,\n",
    "    sharex=True,\n",
    "    tight_layout=True,\n",
    "    figsize=(8, 3),\n",
    ")\n",
    "\n",
    "for i, axes_cols in enumerate(axes_all.T):\n",
    "    ms = sol.marginals.mean[:, i, :]\n",
    "    ls = sol.marginals.cov_sqrtm_lower[:, i, :]\n",
    "    stds = jnp.sqrt(jnp.einsum(\"jn,jn->j\", ls, ls))\n",
    "\n",
    "    if i == 1:\n",
    "        axes_cols[0].set_title(f\"{i}st deriv.\")\n",
    "    elif i == 2:\n",
    "        axes_cols[0].set_title(f\"{i}nd deriv.\")\n",
    "    elif i == 3:\n",
    "        axes_cols[0].set_title(f\"{i}rd deriv.\")\n",
    "    else:\n",
    "        axes_cols[0].set_title(f\"{i}th deriv.\")\n",
    "\n",
    "    axes_cols[0].plot(sol.t, ms, marker=\"None\")\n",
    "    for m in ms.T:\n",
    "        axes_cols[0].fill_between(sol.t, m - 1.96 * stds, m + 1.96 * stds, alpha=0.3)\n",
    "\n",
    "    axes_cols[1].semilogy(sol.t, stds, marker=\"None\")\n",
    "\n",
    "plt.show()"
   ]
  },
  {
   "cell_type": "markdown",
   "id": "7d9424c5",
   "metadata": {},
   "source": [
    "## Smoother"
   ]
  },
  {
   "cell_type": "code",
   "execution_count": null,
   "id": "df4f18d9",
   "metadata": {
    "tags": []
   },
   "outputs": [],
   "source": [
    "ts0 = calibrated.mle(*smoothers.smoother_fixedpoint(*recipes.ts0_iso()))\n",
    "ts = jnp.linspace(t0, t0 + 2.0, endpoint=True, num=500)"
   ]
  },
  {
   "cell_type": "code",
   "execution_count": null,
   "id": "73e2536c",
   "metadata": {
    "tags": []
   },
   "outputs": [],
   "source": [
    "# %#%time\n",
    "\n",
    "sol = ivpsolve.solve_and_save_at(\n",
    "    vf,\n",
    "    initial_values=(u0,),\n",
    "    save_at=ts,\n",
    "    solver=ts0,\n",
    "    rtol=1e-2,\n",
    "    atol=1e-2,\n",
    "    parameters=f_args,\n",
    ")"
   ]
  },
  {
   "cell_type": "code",
   "execution_count": null,
   "id": "c2b81f25",
   "metadata": {
    "tags": []
   },
   "outputs": [],
   "source": [
    "key = jax.random.PRNGKey(seed=1)\n",
    "u, samples = sol.posterior.sample(key, shape=(2,))"
   ]
  },
  {
   "cell_type": "code",
   "execution_count": null,
   "id": "1dd493d1",
   "metadata": {
    "tags": []
   },
   "outputs": [],
   "source": [
    "_, num_derivatives, _ = sol.marginals.mean.shape\n",
    "\n",
    "\n",
    "fig, axes_all = plt.subplots(\n",
    "    nrows=2,\n",
    "    ncols=num_derivatives,\n",
    "    sharex=True,\n",
    "    tight_layout=True,\n",
    "    figsize=(8, 3),\n",
    ")\n",
    "\n",
    "for i, axes_cols in enumerate(axes_all.T):\n",
    "    ms = sol.marginals.mean[:, i, :]\n",
    "    samps = samples[..., i, :]\n",
    "    ls = sol.marginals.cov_sqrtm_lower[:, i, :]\n",
    "    stds = jnp.sqrt(jnp.einsum(\"jn,jn->j\", ls, ls))\n",
    "\n",
    "    if i == 1:\n",
    "        axes_cols[0].set_title(f\"{i}st deriv.\")\n",
    "    elif i == 2:\n",
    "        axes_cols[0].set_title(f\"{i}nd deriv.\")\n",
    "    elif i == 3:\n",
    "        axes_cols[0].set_title(f\"{i}rd deriv.\")\n",
    "    else:\n",
    "        axes_cols[0].set_title(f\"{i}th deriv.\")\n",
    "\n",
    "    axes_cols[0].plot(sol.t, ms, marker=\"None\")\n",
    "    for s in samps:\n",
    "        axes_cols[0].plot(sol.t, s[..., 0], color=\"C0\", linewidth=0.35, marker=\"None\")\n",
    "        axes_cols[0].plot(sol.t, s[..., 1], color=\"C1\", linewidth=0.35, marker=\"None\")\n",
    "    for m in ms.T:\n",
    "        axes_cols[0].fill_between(sol.t, m - 1.96 * stds, m + 1.96 * stds, alpha=0.3)\n",
    "\n",
    "    axes_cols[1].semilogy(sol.t, stds, marker=\"None\")\n",
    "\n",
    "plt.show()"
   ]
  },
  {
   "cell_type": "markdown",
   "id": "3d50f24f",
   "metadata": {},
   "source": [
    "The marginal standard deviations (bottom row) show how the filter is forward-only, whereas the smoother is a global estimate.\n",
    "\n",
    "This is why you should use a filter for terminal-value simulation and a smoother if you want \"global\" solutions."
   ]
  }
 ],
 "metadata": {
  "jupytext": {
   "formats": "ipynb,md"
  },
  "kernelspec": {
   "display_name": "Python 3 (ipykernel)",
   "language": "python",
   "name": "python3"
  },
  "language_info": {
   "codemirror_mode": {
    "name": "ipython",
    "version": 3
   },
   "file_extension": ".py",
   "mimetype": "text/x-python",
   "name": "python",
   "nbconvert_exporter": "python",
   "pygments_lexer": "ipython3",
   "version": "3.10.12"
  }
 },
 "nbformat": 4,
 "nbformat_minor": 5
}
